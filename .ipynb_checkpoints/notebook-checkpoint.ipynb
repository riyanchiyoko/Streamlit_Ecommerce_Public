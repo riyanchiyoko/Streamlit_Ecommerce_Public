{
 "cells": [
  {
   "cell_type": "markdown",
   "id": "c9f121b3-17af-46c4-a7af-a1ac227ce854",
   "metadata": {},
   "source": [
    "# Proyek Analisis Data: [E-commerce-public-dataset]\n",
    "- **Nama:** [Her Ariyan Mahanani]\n",
    "- **Email:** [riyanchiyoko@gmail.com]\n",
    "- **ID Dicoding:** [her_ariyan]"
   ]
  },
  {
   "cell_type": "markdown",
   "id": "026e2170-27f6-442e-a142-5617a1d56ca4",
   "metadata": {},
   "source": [
    "## Menentukan Pertanyaan Bisnis"
   ]
  },
  {
   "cell_type": "raw",
   "id": "51c7d7f7-c841-44df-92de-6642d98e1caf",
   "metadata": {},
   "source": [
    "- seller mana sajakah yang mencapai total nilai penjualan tertinggi pada tahun 2018?\n",
    "- kategori produk manakah yang paling diminati dan kategori produk sedikit peminat pada tahun 2018?\n",
    "- kategori produk manakah yang paling diminati setiap bulannya pada tahun 2018?"
   ]
  },
  {
   "cell_type": "markdown",
   "id": "e52c8d8b-e922-4557-820c-185959db6da6",
   "metadata": {},
   "source": [
    "## Import Semua Packages/Library yang Digunakan"
   ]
  },
  {
   "cell_type": "code",
   "execution_count": 4,
   "id": "ff7b9f53-29c8-432a-a936-79c3e2b29568",
   "metadata": {},
   "outputs": [],
   "source": [
    "#load semua library\n",
    "import numpy as np\n",
    "import pandas as pd\n",
    "import matplotlib.pyplot as plt\n",
    "import seaborn as sns\n",
    "\n",
    "from matplotlib.ticker import FuncFormatter "
   ]
  },
  {
   "cell_type": "markdown",
   "id": "b7de2a7c-af7f-4963-8d70-6bca8bf2da60",
   "metadata": {},
   "source": [
    "## Data Wrangling"
   ]
  },
  {
   "cell_type": "markdown",
   "id": "ad1fe3ed-b734-48e6-a25a-8d9e8f800be0",
   "metadata": {},
   "source": [
    "### Gathering Data"
   ]
  },
  {
   "cell_type": "code",
   "execution_count": 7,
   "id": "2be5c395-695b-481c-b12d-96b1a7b2eced",
   "metadata": {},
   "outputs": [
    {
     "name": "stdout",
     "output_type": "stream",
     "text": [
      "                           order_id                       customer_id  \\\n",
      "0  e481f51cbdc54678b7cc49136f2d6af7  9ef432eb6251297304e76186b10a928d   \n",
      "1  53cdb2fc8bc7dce0b6741e2150273451  b0830fb4747a6c6d20dea0b8c802d7ef   \n",
      "2  47770eb9100c2d0c44946d9cf07ec65d  41ce2a54c0b03bf3443c3d931a367089   \n",
      "3  949d5b44dbf5de918fe9c16f97b45f8a  f88197465ea7920adcdbec7375364d82   \n",
      "4  ad21c59c0840e6cb83a9ceb5573f8159  8ab97904e6daea8866dbdbc4fb7aad2c   \n",
      "\n",
      "  order_status order_purchase_timestamp    order_approved_at  \\\n",
      "0    delivered      2017-10-02 10:56:33  2017-10-02 11:07:15   \n",
      "1    delivered      2018-07-24 20:41:37  2018-07-26 03:24:27   \n",
      "2    delivered      2018-08-08 08:38:49  2018-08-08 08:55:23   \n",
      "3    delivered      2017-11-18 19:28:06  2017-11-18 19:45:59   \n",
      "4    delivered      2018-02-13 21:18:39  2018-02-13 22:20:29   \n",
      "\n",
      "  order_delivered_carrier_date order_delivered_customer_date  \\\n",
      "0          2017-10-04 19:55:00           2017-10-10 21:25:13   \n",
      "1          2018-07-26 14:31:00           2018-08-07 15:27:45   \n",
      "2          2018-08-08 13:50:00           2018-08-17 18:06:29   \n",
      "3          2017-11-22 13:39:59           2017-12-02 00:28:42   \n",
      "4          2018-02-14 19:46:34           2018-02-16 18:17:02   \n",
      "\n",
      "  order_estimated_delivery_date  \n",
      "0           2017-10-18 00:00:00  \n",
      "1           2018-08-13 00:00:00  \n",
      "2           2018-09-04 00:00:00  \n",
      "3           2017-12-15 00:00:00  \n",
      "4           2018-02-26 00:00:00  \n"
     ]
    }
   ],
   "source": [
    "# Membaca file CSV orders_dataset.csv ke dalam DataFrame dan Menampilkan beberapa baris pertama dari data\n",
    "orders_df = pd.read_csv( r\"D:\\Project\\dicoding.com\\submission\\E-commerce-public-dataset\\orders_dataset.csv\")\n",
    "print(orders_df.head())"
   ]
  },
  {
   "cell_type": "code",
   "execution_count": 8,
   "id": "ca784705-ba2d-4156-85e2-1d2390b6bbd3",
   "metadata": {},
   "outputs": [
    {
     "name": "stdout",
     "output_type": "stream",
     "text": [
      "                           order_id  order_item_id  \\\n",
      "0  00010242fe8c5a6d1ba2dd792cb16214              1   \n",
      "1  00018f77f2f0320c557190d7a144bdd3              1   \n",
      "2  000229ec398224ef6ca0657da4fc703e              1   \n",
      "3  00024acbcdf0a6daa1e931b038114c75              1   \n",
      "4  00042b26cf59d7ce69dfabb4e55b4fd9              1   \n",
      "\n",
      "                         product_id                         seller_id  \\\n",
      "0  4244733e06e7ecb4970a6e2683c13e61  48436dade18ac8b2bce089ec2a041202   \n",
      "1  e5f2d52b802189ee658865ca93d83a8f  dd7ddc04e1b6c2c614352b383efe2d36   \n",
      "2  c777355d18b72b67abbeef9df44fd0fd  5b51032eddd242adc84c38acab88f23d   \n",
      "3  7634da152a4610f1595efa32f14722fc  9d7a1d34a5052409006425275ba1c2b4   \n",
      "4  ac6c3623068f30de03045865e4e10089  df560393f3a51e74553ab94004ba5c87   \n",
      "\n",
      "   shipping_limit_date   price  freight_value  \n",
      "0  2017-09-19 09:45:35   58.90          13.29  \n",
      "1  2017-05-03 11:05:13  239.90          19.93  \n",
      "2  2018-01-18 14:48:30  199.00          17.87  \n",
      "3  2018-08-15 10:10:18   12.99          12.79  \n",
      "4  2017-02-13 13:57:51  199.90          18.14  \n"
     ]
    }
   ],
   "source": [
    "## Membaca file CSV order_items_df.csv ke dalam DataFrame dan Menampilkan beberapa baris pertama dari data\n",
    "order_items_df = pd.read_csv( r\"D:\\Project\\dicoding.com\\submission\\E-commerce-public-dataset\\order_items_dataset.csv\")\n",
    "print(order_items_df.head())"
   ]
  },
  {
   "cell_type": "code",
   "execution_count": 9,
   "id": "743df824-d603-4b97-9cd5-83eeb7f777ad",
   "metadata": {},
   "outputs": [
    {
     "name": "stdout",
     "output_type": "stream",
     "text": [
      "                          seller_id  seller_zip_code_prefix  \\\n",
      "0  3442f8959a84dea7ee197c632cb2df15                   13023   \n",
      "1  d1b65fc7debc3361ea86b5f14c68d2e2                   13844   \n",
      "2  ce3ad9de960102d0677a81f5d0bb7b2d                   20031   \n",
      "3  c0f3eea2e14555b6faeea3dd58c1b1c3                    4195   \n",
      "4  51a04a8a6bdcb23deccc82b0b80742cf                   12914   \n",
      "\n",
      "         seller_city seller_state  \n",
      "0           campinas           SP  \n",
      "1         mogi guacu           SP  \n",
      "2     rio de janeiro           RJ  \n",
      "3          sao paulo           SP  \n",
      "4  braganca paulista           SP  \n"
     ]
    }
   ],
   "source": [
    "### Membaca file CSV sellers_df.csv ke dalam DataFrame dan Menampilkan beberapa baris pertama dari data\n",
    "sellers_df = pd.read_csv( r\"D:\\Project\\dicoding.com\\submission\\E-commerce-public-dataset\\sellers_dataset.csv\")\n",
    "print(sellers_df.head())"
   ]
  },
  {
   "cell_type": "code",
   "execution_count": 10,
   "id": "59e8b805-d45e-45a9-853e-cfddabc54173",
   "metadata": {},
   "outputs": [
    {
     "name": "stdout",
     "output_type": "stream",
     "text": [
      "                         product_id  product_category_name  \\\n",
      "0  1e9e8ef04dbcff4541ed26657ea517e5             perfumaria   \n",
      "1  3aa071139cb16b67ca9e5dea641aaa2f                  artes   \n",
      "2  96bd76ec8810374ed1b65e291975717f          esporte_lazer   \n",
      "3  cef67bcfe19066a932b7673e239eb23d                  bebes   \n",
      "4  9dc1a7de274444849c219cff195d0b71  utilidades_domesticas   \n",
      "\n",
      "   product_name_lenght  product_description_lenght  product_photos_qty  \\\n",
      "0                 40.0                       287.0                 1.0   \n",
      "1                 44.0                       276.0                 1.0   \n",
      "2                 46.0                       250.0                 1.0   \n",
      "3                 27.0                       261.0                 1.0   \n",
      "4                 37.0                       402.0                 4.0   \n",
      "\n",
      "   product_weight_g  product_length_cm  product_height_cm  product_width_cm  \n",
      "0             225.0               16.0               10.0              14.0  \n",
      "1            1000.0               30.0               18.0              20.0  \n",
      "2             154.0               18.0                9.0              15.0  \n",
      "3             371.0               26.0                4.0              26.0  \n",
      "4             625.0               20.0               17.0              13.0  \n"
     ]
    }
   ],
   "source": [
    "#### Membaca file CSV products_df.csv ke dalam DataFrame dan Menampilkan beberapa baris pertama dari data\n",
    "products_df = pd.read_csv( r\"D:\\Project\\dicoding.com\\submission\\E-commerce-public-dataset\\products_dataset.csv\")\n",
    "print(products_df.head())"
   ]
  },
  {
   "cell_type": "code",
   "execution_count": 11,
   "id": "d4b114e4-7523-49d6-b57c-80ac2c449b8f",
   "metadata": {},
   "outputs": [
    {
     "name": "stdout",
     "output_type": "stream",
     "text": [
      "    product_category_name product_category_name_english\n",
      "0            beleza_saude                 health_beauty\n",
      "1  informatica_acessorios         computers_accessories\n",
      "2              automotivo                          auto\n",
      "3         cama_mesa_banho                bed_bath_table\n",
      "4        moveis_decoracao               furniture_decor\n"
     ]
    }
   ],
   "source": [
    "#### Membaca file CSV product_category_df.csv ke dalam DataFrame dan Menampilkan beberapa baris pertama dari data\n",
    "product_category_df = pd.read_csv( r\"D:\\Project\\dicoding.com\\submission\\E-commerce-public-dataset\\product_category_name_translation.csv\")\n",
    "print(product_category_df.head())"
   ]
  },
  {
   "cell_type": "raw",
   "id": "7cbc6c7f-28c6-4fd2-9b72-5aeae2d54aef",
   "metadata": {},
   "source": [
    "Insight :\n",
    "1. dataframe orders_df, order_items_df, dan sellers_df adalah dataframe yang di butuhkan untuk menemukan seller dengan total nilai penjualan terbanyak pada tahun 2018\n",
    "2. dataframe orders_df, order_items_df, products_df dan product_category_df adalah dataframe yang di butuhkan untuk menemukan kategori produk yang paling diminati pada tahun 2018"
   ]
  },
  {
   "cell_type": "markdown",
   "id": "3948233b-38c4-4335-9c55-ec88f7ddea86",
   "metadata": {},
   "source": [
    "### Assessing Data"
   ]
  },
  {
   "cell_type": "code",
   "execution_count": 13,
   "id": "1d994ba3-c4fd-4ecd-bd1a-3dd8e65f5aca",
   "metadata": {},
   "outputs": [
    {
     "name": "stdout",
     "output_type": "stream",
     "text": [
      "<class 'pandas.core.frame.DataFrame'>\n",
      "RangeIndex: 99441 entries, 0 to 99440\n",
      "Data columns (total 8 columns):\n",
      " #   Column                         Non-Null Count  Dtype \n",
      "---  ------                         --------------  ----- \n",
      " 0   order_id                       99441 non-null  object\n",
      " 1   customer_id                    99441 non-null  object\n",
      " 2   order_status                   99441 non-null  object\n",
      " 3   order_purchase_timestamp       99441 non-null  object\n",
      " 4   order_approved_at              99281 non-null  object\n",
      " 5   order_delivered_carrier_date   97658 non-null  object\n",
      " 6   order_delivered_customer_date  96476 non-null  object\n",
      " 7   order_estimated_delivery_date  99441 non-null  object\n",
      "dtypes: object(8)\n",
      "memory usage: 6.1+ MB\n"
     ]
    }
   ],
   "source": [
    "orders_df.info()"
   ]
  },
  {
   "cell_type": "code",
   "execution_count": 14,
   "id": "2baf11bf-2282-43c0-83a7-c0a1ef4d558e",
   "metadata": {},
   "outputs": [
    {
     "data": {
      "text/plain": [
       "order_id                            0\n",
       "customer_id                         0\n",
       "order_status                        0\n",
       "order_purchase_timestamp            0\n",
       "order_approved_at                 160\n",
       "order_delivered_carrier_date     1783\n",
       "order_delivered_customer_date    2965\n",
       "order_estimated_delivery_date       0\n",
       "dtype: int64"
      ]
     },
     "execution_count": 14,
     "metadata": {},
     "output_type": "execute_result"
    }
   ],
   "source": [
    "#cek missing value\n",
    "orders_df.isna().sum()"
   ]
  },
  {
   "cell_type": "code",
   "execution_count": 15,
   "id": "338053b1-7d64-4550-be01-273ca2f76a1c",
   "metadata": {},
   "outputs": [
    {
     "name": "stdout",
     "output_type": "stream",
     "text": [
      "Jumlah duplikasi:  0\n"
     ]
    }
   ],
   "source": [
    "#cek apakah ada duplikasi data order\n",
    "print(\"Jumlah duplikasi: \",orders_df.duplicated().sum())"
   ]
  },
  {
   "cell_type": "code",
   "execution_count": 16,
   "id": "ffd0430b-01d3-4646-9fa3-cce77b1584aa",
   "metadata": {},
   "outputs": [
    {
     "data": {
      "text/html": [
       "<div>\n",
       "<style scoped>\n",
       "    .dataframe tbody tr th:only-of-type {\n",
       "        vertical-align: middle;\n",
       "    }\n",
       "\n",
       "    .dataframe tbody tr th {\n",
       "        vertical-align: top;\n",
       "    }\n",
       "\n",
       "    .dataframe thead th {\n",
       "        text-align: right;\n",
       "    }\n",
       "</style>\n",
       "<table border=\"1\" class=\"dataframe\">\n",
       "  <thead>\n",
       "    <tr style=\"text-align: right;\">\n",
       "      <th></th>\n",
       "      <th>order_id</th>\n",
       "      <th>customer_id</th>\n",
       "      <th>order_status</th>\n",
       "      <th>order_purchase_timestamp</th>\n",
       "      <th>order_approved_at</th>\n",
       "      <th>order_delivered_carrier_date</th>\n",
       "      <th>order_delivered_customer_date</th>\n",
       "      <th>order_estimated_delivery_date</th>\n",
       "    </tr>\n",
       "  </thead>\n",
       "  <tbody>\n",
       "    <tr>\n",
       "      <th>count</th>\n",
       "      <td>99441</td>\n",
       "      <td>99441</td>\n",
       "      <td>99441</td>\n",
       "      <td>99441</td>\n",
       "      <td>99281</td>\n",
       "      <td>97658</td>\n",
       "      <td>96476</td>\n",
       "      <td>99441</td>\n",
       "    </tr>\n",
       "    <tr>\n",
       "      <th>unique</th>\n",
       "      <td>99441</td>\n",
       "      <td>99441</td>\n",
       "      <td>8</td>\n",
       "      <td>98875</td>\n",
       "      <td>90733</td>\n",
       "      <td>81018</td>\n",
       "      <td>95664</td>\n",
       "      <td>459</td>\n",
       "    </tr>\n",
       "    <tr>\n",
       "      <th>top</th>\n",
       "      <td>e481f51cbdc54678b7cc49136f2d6af7</td>\n",
       "      <td>9ef432eb6251297304e76186b10a928d</td>\n",
       "      <td>delivered</td>\n",
       "      <td>2018-04-11 10:48:14</td>\n",
       "      <td>2018-02-27 04:31:10</td>\n",
       "      <td>2018-05-09 15:48:00</td>\n",
       "      <td>2018-05-08 23:38:46</td>\n",
       "      <td>2017-12-20 00:00:00</td>\n",
       "    </tr>\n",
       "    <tr>\n",
       "      <th>freq</th>\n",
       "      <td>1</td>\n",
       "      <td>1</td>\n",
       "      <td>96478</td>\n",
       "      <td>3</td>\n",
       "      <td>9</td>\n",
       "      <td>47</td>\n",
       "      <td>3</td>\n",
       "      <td>522</td>\n",
       "    </tr>\n",
       "  </tbody>\n",
       "</table>\n",
       "</div>"
      ],
      "text/plain": [
       "                                order_id                       customer_id  \\\n",
       "count                              99441                             99441   \n",
       "unique                             99441                             99441   \n",
       "top     e481f51cbdc54678b7cc49136f2d6af7  9ef432eb6251297304e76186b10a928d   \n",
       "freq                                   1                                 1   \n",
       "\n",
       "       order_status order_purchase_timestamp    order_approved_at  \\\n",
       "count         99441                    99441                99281   \n",
       "unique            8                    98875                90733   \n",
       "top       delivered      2018-04-11 10:48:14  2018-02-27 04:31:10   \n",
       "freq          96478                        3                    9   \n",
       "\n",
       "       order_delivered_carrier_date order_delivered_customer_date  \\\n",
       "count                         97658                         96476   \n",
       "unique                        81018                         95664   \n",
       "top             2018-05-09 15:48:00           2018-05-08 23:38:46   \n",
       "freq                             47                             3   \n",
       "\n",
       "       order_estimated_delivery_date  \n",
       "count                          99441  \n",
       "unique                           459  \n",
       "top              2017-12-20 00:00:00  \n",
       "freq                             522  "
      ]
     },
     "execution_count": 16,
     "metadata": {},
     "output_type": "execute_result"
    }
   ],
   "source": [
    "#memeriksa parameter statistik dari kolom numerik\n",
    "orders_df.describe()"
   ]
  },
  {
   "cell_type": "code",
   "execution_count": 17,
   "id": "b936211f-23a5-4fd5-b9a9-ae6467c373e5",
   "metadata": {},
   "outputs": [
    {
     "name": "stdout",
     "output_type": "stream",
     "text": [
      "<class 'pandas.core.frame.DataFrame'>\n",
      "RangeIndex: 112650 entries, 0 to 112649\n",
      "Data columns (total 7 columns):\n",
      " #   Column               Non-Null Count   Dtype  \n",
      "---  ------               --------------   -----  \n",
      " 0   order_id             112650 non-null  object \n",
      " 1   order_item_id        112650 non-null  int64  \n",
      " 2   product_id           112650 non-null  object \n",
      " 3   seller_id            112650 non-null  object \n",
      " 4   shipping_limit_date  112650 non-null  object \n",
      " 5   price                112650 non-null  float64\n",
      " 6   freight_value        112650 non-null  float64\n",
      "dtypes: float64(2), int64(1), object(4)\n",
      "memory usage: 6.0+ MB\n"
     ]
    }
   ],
   "source": [
    "order_items_df.info()"
   ]
  },
  {
   "cell_type": "code",
   "execution_count": 18,
   "id": "b3a5cb1c-916e-4ece-b851-358f1739b1ca",
   "metadata": {},
   "outputs": [
    {
     "data": {
      "text/plain": [
       "order_id               0\n",
       "order_item_id          0\n",
       "product_id             0\n",
       "seller_id              0\n",
       "shipping_limit_date    0\n",
       "price                  0\n",
       "freight_value          0\n",
       "dtype: int64"
      ]
     },
     "execution_count": 18,
     "metadata": {},
     "output_type": "execute_result"
    }
   ],
   "source": [
    "#cek missing value\n",
    "order_items_df.isna().sum()"
   ]
  },
  {
   "cell_type": "code",
   "execution_count": 19,
   "id": "1e625430-3dd5-46ac-b478-7ff1a4d0105e",
   "metadata": {},
   "outputs": [
    {
     "name": "stdout",
     "output_type": "stream",
     "text": [
      "Jumlah duplikasi:  0\n"
     ]
    }
   ],
   "source": [
    "#cek apakah ada duplikasi\n",
    "print(\"Jumlah duplikasi: \",order_items_df.duplicated().sum())"
   ]
  },
  {
   "cell_type": "code",
   "execution_count": 20,
   "id": "8ed60dbd-5a6b-4d10-8e83-6da43ed93b4b",
   "metadata": {},
   "outputs": [
    {
     "data": {
      "text/html": [
       "<div>\n",
       "<style scoped>\n",
       "    .dataframe tbody tr th:only-of-type {\n",
       "        vertical-align: middle;\n",
       "    }\n",
       "\n",
       "    .dataframe tbody tr th {\n",
       "        vertical-align: top;\n",
       "    }\n",
       "\n",
       "    .dataframe thead th {\n",
       "        text-align: right;\n",
       "    }\n",
       "</style>\n",
       "<table border=\"1\" class=\"dataframe\">\n",
       "  <thead>\n",
       "    <tr style=\"text-align: right;\">\n",
       "      <th></th>\n",
       "      <th>order_item_id</th>\n",
       "      <th>price</th>\n",
       "      <th>freight_value</th>\n",
       "    </tr>\n",
       "  </thead>\n",
       "  <tbody>\n",
       "    <tr>\n",
       "      <th>count</th>\n",
       "      <td>112650.000000</td>\n",
       "      <td>112650.000000</td>\n",
       "      <td>112650.000000</td>\n",
       "    </tr>\n",
       "    <tr>\n",
       "      <th>mean</th>\n",
       "      <td>1.197834</td>\n",
       "      <td>120.653739</td>\n",
       "      <td>19.990320</td>\n",
       "    </tr>\n",
       "    <tr>\n",
       "      <th>std</th>\n",
       "      <td>0.705124</td>\n",
       "      <td>183.633928</td>\n",
       "      <td>15.806405</td>\n",
       "    </tr>\n",
       "    <tr>\n",
       "      <th>min</th>\n",
       "      <td>1.000000</td>\n",
       "      <td>0.850000</td>\n",
       "      <td>0.000000</td>\n",
       "    </tr>\n",
       "    <tr>\n",
       "      <th>25%</th>\n",
       "      <td>1.000000</td>\n",
       "      <td>39.900000</td>\n",
       "      <td>13.080000</td>\n",
       "    </tr>\n",
       "    <tr>\n",
       "      <th>50%</th>\n",
       "      <td>1.000000</td>\n",
       "      <td>74.990000</td>\n",
       "      <td>16.260000</td>\n",
       "    </tr>\n",
       "    <tr>\n",
       "      <th>75%</th>\n",
       "      <td>1.000000</td>\n",
       "      <td>134.900000</td>\n",
       "      <td>21.150000</td>\n",
       "    </tr>\n",
       "    <tr>\n",
       "      <th>max</th>\n",
       "      <td>21.000000</td>\n",
       "      <td>6735.000000</td>\n",
       "      <td>409.680000</td>\n",
       "    </tr>\n",
       "  </tbody>\n",
       "</table>\n",
       "</div>"
      ],
      "text/plain": [
       "       order_item_id          price  freight_value\n",
       "count  112650.000000  112650.000000  112650.000000\n",
       "mean        1.197834     120.653739      19.990320\n",
       "std         0.705124     183.633928      15.806405\n",
       "min         1.000000       0.850000       0.000000\n",
       "25%         1.000000      39.900000      13.080000\n",
       "50%         1.000000      74.990000      16.260000\n",
       "75%         1.000000     134.900000      21.150000\n",
       "max        21.000000    6735.000000     409.680000"
      ]
     },
     "execution_count": 20,
     "metadata": {},
     "output_type": "execute_result"
    }
   ],
   "source": [
    "#memeriksa parameter statistik dari kolom numerik\n",
    "order_items_df.describe()"
   ]
  },
  {
   "cell_type": "code",
   "execution_count": 21,
   "id": "9dc251b3-c447-4c77-8def-83d058fdaee6",
   "metadata": {
    "scrolled": true
   },
   "outputs": [
    {
     "name": "stdout",
     "output_type": "stream",
     "text": [
      "<class 'pandas.core.frame.DataFrame'>\n",
      "RangeIndex: 3095 entries, 0 to 3094\n",
      "Data columns (total 4 columns):\n",
      " #   Column                  Non-Null Count  Dtype \n",
      "---  ------                  --------------  ----- \n",
      " 0   seller_id               3095 non-null   object\n",
      " 1   seller_zip_code_prefix  3095 non-null   int64 \n",
      " 2   seller_city             3095 non-null   object\n",
      " 3   seller_state            3095 non-null   object\n",
      "dtypes: int64(1), object(3)\n",
      "memory usage: 96.8+ KB\n"
     ]
    }
   ],
   "source": [
    "sellers_df.info()"
   ]
  },
  {
   "cell_type": "code",
   "execution_count": 22,
   "id": "25472377-c973-4a22-8c19-124f233fc8ae",
   "metadata": {},
   "outputs": [
    {
     "data": {
      "text/plain": [
       "seller_id                 0\n",
       "seller_zip_code_prefix    0\n",
       "seller_city               0\n",
       "seller_state              0\n",
       "dtype: int64"
      ]
     },
     "execution_count": 22,
     "metadata": {},
     "output_type": "execute_result"
    }
   ],
   "source": [
    "#cek missing value\n",
    "sellers_df.isna().sum()"
   ]
  },
  {
   "cell_type": "code",
   "execution_count": 23,
   "id": "861fff84-85f0-4dcf-a93b-3a800a650d20",
   "metadata": {},
   "outputs": [
    {
     "name": "stdout",
     "output_type": "stream",
     "text": [
      "Jumlah duplikasi:  0\n"
     ]
    }
   ],
   "source": [
    "#cek apakah ada duplikasi\n",
    "print(\"Jumlah duplikasi: \",sellers_df.duplicated().sum())"
   ]
  },
  {
   "cell_type": "code",
   "execution_count": 24,
   "id": "0f1a5aca-a398-4c4e-ab59-b9b15def968f",
   "metadata": {},
   "outputs": [
    {
     "data": {
      "text/html": [
       "<div>\n",
       "<style scoped>\n",
       "    .dataframe tbody tr th:only-of-type {\n",
       "        vertical-align: middle;\n",
       "    }\n",
       "\n",
       "    .dataframe tbody tr th {\n",
       "        vertical-align: top;\n",
       "    }\n",
       "\n",
       "    .dataframe thead th {\n",
       "        text-align: right;\n",
       "    }\n",
       "</style>\n",
       "<table border=\"1\" class=\"dataframe\">\n",
       "  <thead>\n",
       "    <tr style=\"text-align: right;\">\n",
       "      <th></th>\n",
       "      <th>seller_zip_code_prefix</th>\n",
       "    </tr>\n",
       "  </thead>\n",
       "  <tbody>\n",
       "    <tr>\n",
       "      <th>count</th>\n",
       "      <td>3095.000000</td>\n",
       "    </tr>\n",
       "    <tr>\n",
       "      <th>mean</th>\n",
       "      <td>32291.059451</td>\n",
       "    </tr>\n",
       "    <tr>\n",
       "      <th>std</th>\n",
       "      <td>32713.453830</td>\n",
       "    </tr>\n",
       "    <tr>\n",
       "      <th>min</th>\n",
       "      <td>1001.000000</td>\n",
       "    </tr>\n",
       "    <tr>\n",
       "      <th>25%</th>\n",
       "      <td>7093.500000</td>\n",
       "    </tr>\n",
       "    <tr>\n",
       "      <th>50%</th>\n",
       "      <td>14940.000000</td>\n",
       "    </tr>\n",
       "    <tr>\n",
       "      <th>75%</th>\n",
       "      <td>64552.500000</td>\n",
       "    </tr>\n",
       "    <tr>\n",
       "      <th>max</th>\n",
       "      <td>99730.000000</td>\n",
       "    </tr>\n",
       "  </tbody>\n",
       "</table>\n",
       "</div>"
      ],
      "text/plain": [
       "       seller_zip_code_prefix\n",
       "count             3095.000000\n",
       "mean             32291.059451\n",
       "std              32713.453830\n",
       "min               1001.000000\n",
       "25%               7093.500000\n",
       "50%              14940.000000\n",
       "75%              64552.500000\n",
       "max              99730.000000"
      ]
     },
     "execution_count": 24,
     "metadata": {},
     "output_type": "execute_result"
    }
   ],
   "source": [
    "#memeriksa parameter statistik dari kolom numerik\n",
    "sellers_df.describe()"
   ]
  },
  {
   "cell_type": "code",
   "execution_count": 25,
   "id": "66afdb69-80d5-4f1c-abd8-712a4152cf86",
   "metadata": {},
   "outputs": [
    {
     "name": "stdout",
     "output_type": "stream",
     "text": [
      "<class 'pandas.core.frame.DataFrame'>\n",
      "RangeIndex: 32951 entries, 0 to 32950\n",
      "Data columns (total 9 columns):\n",
      " #   Column                      Non-Null Count  Dtype  \n",
      "---  ------                      --------------  -----  \n",
      " 0   product_id                  32951 non-null  object \n",
      " 1   product_category_name       32341 non-null  object \n",
      " 2   product_name_lenght         32341 non-null  float64\n",
      " 3   product_description_lenght  32341 non-null  float64\n",
      " 4   product_photos_qty          32341 non-null  float64\n",
      " 5   product_weight_g            32949 non-null  float64\n",
      " 6   product_length_cm           32949 non-null  float64\n",
      " 7   product_height_cm           32949 non-null  float64\n",
      " 8   product_width_cm            32949 non-null  float64\n",
      "dtypes: float64(7), object(2)\n",
      "memory usage: 2.3+ MB\n"
     ]
    }
   ],
   "source": [
    "products_df.info()"
   ]
  },
  {
   "cell_type": "code",
   "execution_count": 26,
   "id": "44a23c27-e451-4579-8329-b2bdb0e0c4c0",
   "metadata": {},
   "outputs": [
    {
     "data": {
      "text/plain": [
       "product_id                      0\n",
       "product_category_name         610\n",
       "product_name_lenght           610\n",
       "product_description_lenght    610\n",
       "product_photos_qty            610\n",
       "product_weight_g                2\n",
       "product_length_cm               2\n",
       "product_height_cm               2\n",
       "product_width_cm                2\n",
       "dtype: int64"
      ]
     },
     "execution_count": 26,
     "metadata": {},
     "output_type": "execute_result"
    }
   ],
   "source": [
    "#cek missing value\n",
    "products_df.isna().sum()"
   ]
  },
  {
   "cell_type": "code",
   "execution_count": 27,
   "id": "8f1852e8-8a1a-4fe3-9e18-dbc98d91949c",
   "metadata": {},
   "outputs": [
    {
     "name": "stdout",
     "output_type": "stream",
     "text": [
      "Jumlah duplikasi:  0\n"
     ]
    }
   ],
   "source": [
    "#cek apakah ada duplikasi\n",
    "print(\"Jumlah duplikasi: \",products_df.duplicated().sum())"
   ]
  },
  {
   "cell_type": "code",
   "execution_count": 28,
   "id": "a902012a-124c-4697-88eb-69a0b0478315",
   "metadata": {},
   "outputs": [
    {
     "data": {
      "text/html": [
       "<div>\n",
       "<style scoped>\n",
       "    .dataframe tbody tr th:only-of-type {\n",
       "        vertical-align: middle;\n",
       "    }\n",
       "\n",
       "    .dataframe tbody tr th {\n",
       "        vertical-align: top;\n",
       "    }\n",
       "\n",
       "    .dataframe thead th {\n",
       "        text-align: right;\n",
       "    }\n",
       "</style>\n",
       "<table border=\"1\" class=\"dataframe\">\n",
       "  <thead>\n",
       "    <tr style=\"text-align: right;\">\n",
       "      <th></th>\n",
       "      <th>product_name_lenght</th>\n",
       "      <th>product_description_lenght</th>\n",
       "      <th>product_photos_qty</th>\n",
       "      <th>product_weight_g</th>\n",
       "      <th>product_length_cm</th>\n",
       "      <th>product_height_cm</th>\n",
       "      <th>product_width_cm</th>\n",
       "    </tr>\n",
       "  </thead>\n",
       "  <tbody>\n",
       "    <tr>\n",
       "      <th>count</th>\n",
       "      <td>32341.000000</td>\n",
       "      <td>32341.000000</td>\n",
       "      <td>32341.000000</td>\n",
       "      <td>32949.000000</td>\n",
       "      <td>32949.000000</td>\n",
       "      <td>32949.000000</td>\n",
       "      <td>32949.000000</td>\n",
       "    </tr>\n",
       "    <tr>\n",
       "      <th>mean</th>\n",
       "      <td>48.476949</td>\n",
       "      <td>771.495285</td>\n",
       "      <td>2.188986</td>\n",
       "      <td>2276.472488</td>\n",
       "      <td>30.815078</td>\n",
       "      <td>16.937661</td>\n",
       "      <td>23.196728</td>\n",
       "    </tr>\n",
       "    <tr>\n",
       "      <th>std</th>\n",
       "      <td>10.245741</td>\n",
       "      <td>635.115225</td>\n",
       "      <td>1.736766</td>\n",
       "      <td>4282.038731</td>\n",
       "      <td>16.914458</td>\n",
       "      <td>13.637554</td>\n",
       "      <td>12.079047</td>\n",
       "    </tr>\n",
       "    <tr>\n",
       "      <th>min</th>\n",
       "      <td>5.000000</td>\n",
       "      <td>4.000000</td>\n",
       "      <td>1.000000</td>\n",
       "      <td>0.000000</td>\n",
       "      <td>7.000000</td>\n",
       "      <td>2.000000</td>\n",
       "      <td>6.000000</td>\n",
       "    </tr>\n",
       "    <tr>\n",
       "      <th>25%</th>\n",
       "      <td>42.000000</td>\n",
       "      <td>339.000000</td>\n",
       "      <td>1.000000</td>\n",
       "      <td>300.000000</td>\n",
       "      <td>18.000000</td>\n",
       "      <td>8.000000</td>\n",
       "      <td>15.000000</td>\n",
       "    </tr>\n",
       "    <tr>\n",
       "      <th>50%</th>\n",
       "      <td>51.000000</td>\n",
       "      <td>595.000000</td>\n",
       "      <td>1.000000</td>\n",
       "      <td>700.000000</td>\n",
       "      <td>25.000000</td>\n",
       "      <td>13.000000</td>\n",
       "      <td>20.000000</td>\n",
       "    </tr>\n",
       "    <tr>\n",
       "      <th>75%</th>\n",
       "      <td>57.000000</td>\n",
       "      <td>972.000000</td>\n",
       "      <td>3.000000</td>\n",
       "      <td>1900.000000</td>\n",
       "      <td>38.000000</td>\n",
       "      <td>21.000000</td>\n",
       "      <td>30.000000</td>\n",
       "    </tr>\n",
       "    <tr>\n",
       "      <th>max</th>\n",
       "      <td>76.000000</td>\n",
       "      <td>3992.000000</td>\n",
       "      <td>20.000000</td>\n",
       "      <td>40425.000000</td>\n",
       "      <td>105.000000</td>\n",
       "      <td>105.000000</td>\n",
       "      <td>118.000000</td>\n",
       "    </tr>\n",
       "  </tbody>\n",
       "</table>\n",
       "</div>"
      ],
      "text/plain": [
       "       product_name_lenght  product_description_lenght  product_photos_qty  \\\n",
       "count         32341.000000                32341.000000        32341.000000   \n",
       "mean             48.476949                  771.495285            2.188986   \n",
       "std              10.245741                  635.115225            1.736766   \n",
       "min               5.000000                    4.000000            1.000000   \n",
       "25%              42.000000                  339.000000            1.000000   \n",
       "50%              51.000000                  595.000000            1.000000   \n",
       "75%              57.000000                  972.000000            3.000000   \n",
       "max              76.000000                 3992.000000           20.000000   \n",
       "\n",
       "       product_weight_g  product_length_cm  product_height_cm  \\\n",
       "count      32949.000000       32949.000000       32949.000000   \n",
       "mean        2276.472488          30.815078          16.937661   \n",
       "std         4282.038731          16.914458          13.637554   \n",
       "min            0.000000           7.000000           2.000000   \n",
       "25%          300.000000          18.000000           8.000000   \n",
       "50%          700.000000          25.000000          13.000000   \n",
       "75%         1900.000000          38.000000          21.000000   \n",
       "max        40425.000000         105.000000         105.000000   \n",
       "\n",
       "       product_width_cm  \n",
       "count      32949.000000  \n",
       "mean          23.196728  \n",
       "std           12.079047  \n",
       "min            6.000000  \n",
       "25%           15.000000  \n",
       "50%           20.000000  \n",
       "75%           30.000000  \n",
       "max          118.000000  "
      ]
     },
     "execution_count": 28,
     "metadata": {},
     "output_type": "execute_result"
    }
   ],
   "source": [
    "#memeriksa parameter statistik dari kolom numerik\n",
    "products_df.describe()"
   ]
  },
  {
   "cell_type": "code",
   "execution_count": 29,
   "id": "f5b726c3-3188-4480-8ba4-01269c8c765c",
   "metadata": {},
   "outputs": [
    {
     "name": "stdout",
     "output_type": "stream",
     "text": [
      "<class 'pandas.core.frame.DataFrame'>\n",
      "RangeIndex: 71 entries, 0 to 70\n",
      "Data columns (total 2 columns):\n",
      " #   Column                         Non-Null Count  Dtype \n",
      "---  ------                         --------------  ----- \n",
      " 0   product_category_name          71 non-null     object\n",
      " 1   product_category_name_english  71 non-null     object\n",
      "dtypes: object(2)\n",
      "memory usage: 1.2+ KB\n"
     ]
    }
   ],
   "source": [
    "product_category_df.info()"
   ]
  },
  {
   "cell_type": "code",
   "execution_count": 30,
   "id": "963316c5-ba88-4781-91ea-6cddd3b3aa5b",
   "metadata": {},
   "outputs": [
    {
     "data": {
      "text/plain": [
       "product_category_name            0\n",
       "product_category_name_english    0\n",
       "dtype: int64"
      ]
     },
     "execution_count": 30,
     "metadata": {},
     "output_type": "execute_result"
    }
   ],
   "source": [
    "#cek missing value\n",
    "product_category_df.isna().sum()"
   ]
  },
  {
   "cell_type": "code",
   "execution_count": 31,
   "id": "f81a3166-bdc8-44da-bfe9-3b61cbe793a2",
   "metadata": {},
   "outputs": [
    {
     "name": "stdout",
     "output_type": "stream",
     "text": [
      "Jumlah duplikasi:  0\n"
     ]
    }
   ],
   "source": [
    "#cek apakah ada duplikasi\n",
    "print(\"Jumlah duplikasi: \",product_category_df.duplicated().sum())"
   ]
  },
  {
   "cell_type": "code",
   "execution_count": 32,
   "id": "dc3b429d-d8e9-461e-ac9d-26ed199a3e22",
   "metadata": {},
   "outputs": [
    {
     "data": {
      "text/html": [
       "<div>\n",
       "<style scoped>\n",
       "    .dataframe tbody tr th:only-of-type {\n",
       "        vertical-align: middle;\n",
       "    }\n",
       "\n",
       "    .dataframe tbody tr th {\n",
       "        vertical-align: top;\n",
       "    }\n",
       "\n",
       "    .dataframe thead th {\n",
       "        text-align: right;\n",
       "    }\n",
       "</style>\n",
       "<table border=\"1\" class=\"dataframe\">\n",
       "  <thead>\n",
       "    <tr style=\"text-align: right;\">\n",
       "      <th></th>\n",
       "      <th>product_category_name</th>\n",
       "      <th>product_category_name_english</th>\n",
       "    </tr>\n",
       "  </thead>\n",
       "  <tbody>\n",
       "    <tr>\n",
       "      <th>count</th>\n",
       "      <td>71</td>\n",
       "      <td>71</td>\n",
       "    </tr>\n",
       "    <tr>\n",
       "      <th>unique</th>\n",
       "      <td>71</td>\n",
       "      <td>71</td>\n",
       "    </tr>\n",
       "    <tr>\n",
       "      <th>top</th>\n",
       "      <td>beleza_saude</td>\n",
       "      <td>health_beauty</td>\n",
       "    </tr>\n",
       "    <tr>\n",
       "      <th>freq</th>\n",
       "      <td>1</td>\n",
       "      <td>1</td>\n",
       "    </tr>\n",
       "  </tbody>\n",
       "</table>\n",
       "</div>"
      ],
      "text/plain": [
       "       product_category_name product_category_name_english\n",
       "count                     71                            71\n",
       "unique                    71                            71\n",
       "top             beleza_saude                 health_beauty\n",
       "freq                       1                             1"
      ]
     },
     "execution_count": 32,
     "metadata": {},
     "output_type": "execute_result"
    }
   ],
   "source": [
    "#memeriksa parameter statistik dari kolom numerik\n",
    "product_category_df.describe()"
   ]
  },
  {
   "cell_type": "raw",
   "id": "86cc6f00-e8c8-4c53-bd3d-fd8035f5f167",
   "metadata": {},
   "source": [
    "Insight :\n",
    "1. dataframe orders_df, untuk kolom order_purchase_timestamp, order_delivered_carrier_date, order_delivered_customer_date, order_estimated_delivery_date tipe datanya adalah obj seharusnya datetime\n",
    "2. dataframe order_items_df untuk kolom shipping_limit_date tipe datanya adalah obj seharusnya datetime\n",
    "3. dataframe products_df terdapat missing value yang cukup banyak pada kolom product_category_name, product_name_lenght, product_description_lenght, product_photos_qty masing masing 610 missing value. sedangkan pada kolom product_weight_g, product_length_cm, product_height_cm, product_width_cm  masing masing 2 missing value.\n",
    "4. dataframe sellers_df tidak terdapat seller_name sehingga hanya dapat menggunakan seller_id"
   ]
  },
  {
   "cell_type": "markdown",
   "id": "08fa4148-ea94-46d5-a271-7775c7f6f88e",
   "metadata": {},
   "source": [
    "### Cleaning Data"
   ]
  },
  {
   "cell_type": "code",
   "execution_count": 34,
   "id": "38a9678a-d5c6-41e9-a397-f23461c5d788",
   "metadata": {},
   "outputs": [
    {
     "name": "stdout",
     "output_type": "stream",
     "text": [
      "0    2017-10-02 10:56:33\n",
      "1    2018-07-24 20:41:37\n",
      "2    2018-08-08 08:38:49\n",
      "3    2017-11-18 19:28:06\n",
      "4    2018-02-13 21:18:39\n",
      "Name: order_purchase_timestamp, dtype: object\n",
      "0    2017-10-04 19:55:00\n",
      "1    2018-07-26 14:31:00\n",
      "2    2018-08-08 13:50:00\n",
      "3    2017-11-22 13:39:59\n",
      "4    2018-02-14 19:46:34\n",
      "Name: order_delivered_carrier_date, dtype: object\n",
      "0    2017-10-10 21:25:13\n",
      "1    2018-08-07 15:27:45\n",
      "2    2018-08-17 18:06:29\n",
      "3    2017-12-02 00:28:42\n",
      "4    2018-02-16 18:17:02\n",
      "Name: order_delivered_customer_date, dtype: object\n",
      "0    2017-10-18 00:00:00\n",
      "1    2018-08-13 00:00:00\n",
      "2    2018-09-04 00:00:00\n",
      "3    2017-12-15 00:00:00\n",
      "4    2018-02-26 00:00:00\n",
      "Name: order_estimated_delivery_date, dtype: object\n"
     ]
    }
   ],
   "source": [
    "# cek format tanggal di orders_df\n",
    "print(orders_df[\"order_purchase_timestamp\"].head())\n",
    "print(orders_df[\"order_delivered_carrier_date\"].head())\n",
    "print(orders_df[\"order_delivered_customer_date\"].head())\n",
    "print(orders_df[\"order_estimated_delivery_date\"].head())"
   ]
  },
  {
   "cell_type": "code",
   "execution_count": 35,
   "id": "b0da52e9-3056-48d3-925a-d63254b94069",
   "metadata": {},
   "outputs": [],
   "source": [
    "# Mengonversi kolom \"order_purchase_timestamp, order_delivered_carrier_date,order_delivered_customer_date,order_estimated_delivery_date\" ke tipe datetime\n",
    "orders_df[\"order_purchase_timestamp\"] = pd.to_datetime(orders_df[\"order_purchase_timestamp\"], errors='coerce')\n",
    "orders_df[\"order_delivered_carrier_date\"] = pd.to_datetime(orders_df[\"order_delivered_carrier_date\"], errors='coerce')\n",
    "orders_df[\"order_delivered_customer_date\"] = pd.to_datetime(orders_df[\"order_delivered_customer_date\"], errors='coerce')\n",
    "orders_df[\"order_estimated_delivery_date\"] = pd.to_datetime(orders_df[\"order_estimated_delivery_date\"], errors='coerce')"
   ]
  },
  {
   "cell_type": "code",
   "execution_count": 36,
   "id": "06c46a6e-1477-4ec1-b7f8-95943039e7d8",
   "metadata": {},
   "outputs": [
    {
     "name": "stdout",
     "output_type": "stream",
     "text": [
      "<class 'pandas.core.frame.DataFrame'>\n",
      "RangeIndex: 99441 entries, 0 to 99440\n",
      "Data columns (total 8 columns):\n",
      " #   Column                         Non-Null Count  Dtype         \n",
      "---  ------                         --------------  -----         \n",
      " 0   order_id                       99441 non-null  object        \n",
      " 1   customer_id                    99441 non-null  object        \n",
      " 2   order_status                   99441 non-null  object        \n",
      " 3   order_purchase_timestamp       99441 non-null  datetime64[ns]\n",
      " 4   order_approved_at              99281 non-null  object        \n",
      " 5   order_delivered_carrier_date   97658 non-null  datetime64[ns]\n",
      " 6   order_delivered_customer_date  96476 non-null  datetime64[ns]\n",
      " 7   order_estimated_delivery_date  99441 non-null  datetime64[ns]\n",
      "dtypes: datetime64[ns](4), object(4)\n",
      "memory usage: 6.1+ MB\n"
     ]
    }
   ],
   "source": [
    "#cek kembali tipedata\n",
    "orders_df.info()"
   ]
  },
  {
   "cell_type": "code",
   "execution_count": 37,
   "id": "b411bda8-d6b8-4bf2-815d-e0468a02f04e",
   "metadata": {},
   "outputs": [
    {
     "name": "stdout",
     "output_type": "stream",
     "text": [
      "0    2017-09-19 09:45:35\n",
      "1    2017-05-03 11:05:13\n",
      "2    2018-01-18 14:48:30\n",
      "3    2018-08-15 10:10:18\n",
      "4    2017-02-13 13:57:51\n",
      "Name: shipping_limit_date, dtype: object\n"
     ]
    }
   ],
   "source": [
    "# cek format tanggal di order_items_df\n",
    "print(order_items_df[\"shipping_limit_date\"].head())"
   ]
  },
  {
   "cell_type": "code",
   "execution_count": 38,
   "id": "a0fd5731-52b3-40fd-b620-2c2020c1ce89",
   "metadata": {},
   "outputs": [],
   "source": [
    "# Mengonversi kolom \"shipping_limit_date\" ke tipe datetime\n",
    "order_items_df[\"shipping_limit_date\"] = pd.to_datetime(order_items_df[\"shipping_limit_date\"], errors='coerce')"
   ]
  },
  {
   "cell_type": "code",
   "execution_count": 39,
   "id": "19dfb8e2-6211-4f2d-aa58-6f0408789078",
   "metadata": {},
   "outputs": [
    {
     "name": "stdout",
     "output_type": "stream",
     "text": [
      "<class 'pandas.core.frame.DataFrame'>\n",
      "RangeIndex: 112650 entries, 0 to 112649\n",
      "Data columns (total 7 columns):\n",
      " #   Column               Non-Null Count   Dtype         \n",
      "---  ------               --------------   -----         \n",
      " 0   order_id             112650 non-null  object        \n",
      " 1   order_item_id        112650 non-null  int64         \n",
      " 2   product_id           112650 non-null  object        \n",
      " 3   seller_id            112650 non-null  object        \n",
      " 4   shipping_limit_date  112650 non-null  datetime64[ns]\n",
      " 5   price                112650 non-null  float64       \n",
      " 6   freight_value        112650 non-null  float64       \n",
      "dtypes: datetime64[ns](1), float64(2), int64(1), object(3)\n",
      "memory usage: 6.0+ MB\n"
     ]
    }
   ],
   "source": [
    "##cek kembali tipedata\n",
    "order_items_df.info()"
   ]
  },
  {
   "cell_type": "code",
   "execution_count": 40,
   "id": "6b928796-ea22-43b3-8bc3-e61892387401",
   "metadata": {},
   "outputs": [
    {
     "data": {
      "text/html": [
       "<div>\n",
       "<style scoped>\n",
       "    .dataframe tbody tr th:only-of-type {\n",
       "        vertical-align: middle;\n",
       "    }\n",
       "\n",
       "    .dataframe tbody tr th {\n",
       "        vertical-align: top;\n",
       "    }\n",
       "\n",
       "    .dataframe thead th {\n",
       "        text-align: right;\n",
       "    }\n",
       "</style>\n",
       "<table border=\"1\" class=\"dataframe\">\n",
       "  <thead>\n",
       "    <tr style=\"text-align: right;\">\n",
       "      <th></th>\n",
       "      <th>product_id</th>\n",
       "      <th>product_category_name</th>\n",
       "      <th>product_name_lenght</th>\n",
       "      <th>product_description_lenght</th>\n",
       "      <th>product_photos_qty</th>\n",
       "      <th>product_weight_g</th>\n",
       "      <th>product_length_cm</th>\n",
       "      <th>product_height_cm</th>\n",
       "      <th>product_width_cm</th>\n",
       "    </tr>\n",
       "  </thead>\n",
       "  <tbody>\n",
       "    <tr>\n",
       "      <th>105</th>\n",
       "      <td>a41e356c76fab66334f36de622ecbd3a</td>\n",
       "      <td>NaN</td>\n",
       "      <td>NaN</td>\n",
       "      <td>NaN</td>\n",
       "      <td>NaN</td>\n",
       "      <td>650.0</td>\n",
       "      <td>17.0</td>\n",
       "      <td>14.0</td>\n",
       "      <td>12.0</td>\n",
       "    </tr>\n",
       "    <tr>\n",
       "      <th>128</th>\n",
       "      <td>d8dee61c2034d6d075997acef1870e9b</td>\n",
       "      <td>NaN</td>\n",
       "      <td>NaN</td>\n",
       "      <td>NaN</td>\n",
       "      <td>NaN</td>\n",
       "      <td>300.0</td>\n",
       "      <td>16.0</td>\n",
       "      <td>7.0</td>\n",
       "      <td>20.0</td>\n",
       "    </tr>\n",
       "    <tr>\n",
       "      <th>145</th>\n",
       "      <td>56139431d72cd51f19eb9f7dae4d1617</td>\n",
       "      <td>NaN</td>\n",
       "      <td>NaN</td>\n",
       "      <td>NaN</td>\n",
       "      <td>NaN</td>\n",
       "      <td>200.0</td>\n",
       "      <td>20.0</td>\n",
       "      <td>20.0</td>\n",
       "      <td>20.0</td>\n",
       "    </tr>\n",
       "    <tr>\n",
       "      <th>154</th>\n",
       "      <td>46b48281eb6d663ced748f324108c733</td>\n",
       "      <td>NaN</td>\n",
       "      <td>NaN</td>\n",
       "      <td>NaN</td>\n",
       "      <td>NaN</td>\n",
       "      <td>18500.0</td>\n",
       "      <td>41.0</td>\n",
       "      <td>30.0</td>\n",
       "      <td>41.0</td>\n",
       "    </tr>\n",
       "    <tr>\n",
       "      <th>197</th>\n",
       "      <td>5fb61f482620cb672f5e586bb132eae9</td>\n",
       "      <td>NaN</td>\n",
       "      <td>NaN</td>\n",
       "      <td>NaN</td>\n",
       "      <td>NaN</td>\n",
       "      <td>300.0</td>\n",
       "      <td>35.0</td>\n",
       "      <td>7.0</td>\n",
       "      <td>12.0</td>\n",
       "    </tr>\n",
       "    <tr>\n",
       "      <th>...</th>\n",
       "      <td>...</td>\n",
       "      <td>...</td>\n",
       "      <td>...</td>\n",
       "      <td>...</td>\n",
       "      <td>...</td>\n",
       "      <td>...</td>\n",
       "      <td>...</td>\n",
       "      <td>...</td>\n",
       "      <td>...</td>\n",
       "    </tr>\n",
       "    <tr>\n",
       "      <th>32515</th>\n",
       "      <td>b0a0c5dd78e644373b199380612c350a</td>\n",
       "      <td>NaN</td>\n",
       "      <td>NaN</td>\n",
       "      <td>NaN</td>\n",
       "      <td>NaN</td>\n",
       "      <td>1800.0</td>\n",
       "      <td>30.0</td>\n",
       "      <td>20.0</td>\n",
       "      <td>70.0</td>\n",
       "    </tr>\n",
       "    <tr>\n",
       "      <th>32589</th>\n",
       "      <td>10dbe0fbaa2c505123c17fdc34a63c56</td>\n",
       "      <td>NaN</td>\n",
       "      <td>NaN</td>\n",
       "      <td>NaN</td>\n",
       "      <td>NaN</td>\n",
       "      <td>800.0</td>\n",
       "      <td>30.0</td>\n",
       "      <td>10.0</td>\n",
       "      <td>23.0</td>\n",
       "    </tr>\n",
       "    <tr>\n",
       "      <th>32616</th>\n",
       "      <td>bd2ada37b58ae94cc838b9c0569fecd8</td>\n",
       "      <td>NaN</td>\n",
       "      <td>NaN</td>\n",
       "      <td>NaN</td>\n",
       "      <td>NaN</td>\n",
       "      <td>200.0</td>\n",
       "      <td>21.0</td>\n",
       "      <td>8.0</td>\n",
       "      <td>16.0</td>\n",
       "    </tr>\n",
       "    <tr>\n",
       "      <th>32772</th>\n",
       "      <td>fa51e914046aab32764c41356b9d4ea4</td>\n",
       "      <td>NaN</td>\n",
       "      <td>NaN</td>\n",
       "      <td>NaN</td>\n",
       "      <td>NaN</td>\n",
       "      <td>1300.0</td>\n",
       "      <td>45.0</td>\n",
       "      <td>16.0</td>\n",
       "      <td>45.0</td>\n",
       "    </tr>\n",
       "    <tr>\n",
       "      <th>32852</th>\n",
       "      <td>c4ceee876c82b8328e9c293fa0e1989b</td>\n",
       "      <td>NaN</td>\n",
       "      <td>NaN</td>\n",
       "      <td>NaN</td>\n",
       "      <td>NaN</td>\n",
       "      <td>700.0</td>\n",
       "      <td>28.0</td>\n",
       "      <td>3.0</td>\n",
       "      <td>43.0</td>\n",
       "    </tr>\n",
       "  </tbody>\n",
       "</table>\n",
       "<p>610 rows × 9 columns</p>\n",
       "</div>"
      ],
      "text/plain": [
       "                             product_id product_category_name  \\\n",
       "105    a41e356c76fab66334f36de622ecbd3a                   NaN   \n",
       "128    d8dee61c2034d6d075997acef1870e9b                   NaN   \n",
       "145    56139431d72cd51f19eb9f7dae4d1617                   NaN   \n",
       "154    46b48281eb6d663ced748f324108c733                   NaN   \n",
       "197    5fb61f482620cb672f5e586bb132eae9                   NaN   \n",
       "...                                 ...                   ...   \n",
       "32515  b0a0c5dd78e644373b199380612c350a                   NaN   \n",
       "32589  10dbe0fbaa2c505123c17fdc34a63c56                   NaN   \n",
       "32616  bd2ada37b58ae94cc838b9c0569fecd8                   NaN   \n",
       "32772  fa51e914046aab32764c41356b9d4ea4                   NaN   \n",
       "32852  c4ceee876c82b8328e9c293fa0e1989b                   NaN   \n",
       "\n",
       "       product_name_lenght  product_description_lenght  product_photos_qty  \\\n",
       "105                    NaN                         NaN                 NaN   \n",
       "128                    NaN                         NaN                 NaN   \n",
       "145                    NaN                         NaN                 NaN   \n",
       "154                    NaN                         NaN                 NaN   \n",
       "197                    NaN                         NaN                 NaN   \n",
       "...                    ...                         ...                 ...   \n",
       "32515                  NaN                         NaN                 NaN   \n",
       "32589                  NaN                         NaN                 NaN   \n",
       "32616                  NaN                         NaN                 NaN   \n",
       "32772                  NaN                         NaN                 NaN   \n",
       "32852                  NaN                         NaN                 NaN   \n",
       "\n",
       "       product_weight_g  product_length_cm  product_height_cm  \\\n",
       "105               650.0               17.0               14.0   \n",
       "128               300.0               16.0                7.0   \n",
       "145               200.0               20.0               20.0   \n",
       "154             18500.0               41.0               30.0   \n",
       "197               300.0               35.0                7.0   \n",
       "...                 ...                ...                ...   \n",
       "32515            1800.0               30.0               20.0   \n",
       "32589             800.0               30.0               10.0   \n",
       "32616             200.0               21.0                8.0   \n",
       "32772            1300.0               45.0               16.0   \n",
       "32852             700.0               28.0                3.0   \n",
       "\n",
       "       product_width_cm  \n",
       "105                12.0  \n",
       "128                20.0  \n",
       "145                20.0  \n",
       "154                41.0  \n",
       "197                12.0  \n",
       "...                 ...  \n",
       "32515              70.0  \n",
       "32589              23.0  \n",
       "32616              16.0  \n",
       "32772              45.0  \n",
       "32852              43.0  \n",
       "\n",
       "[610 rows x 9 columns]"
      ]
     },
     "execution_count": 40,
     "metadata": {},
     "output_type": "execute_result"
    }
   ],
   "source": [
    "#melihat data yang mengandung missing value pada kolom product_category_name \n",
    "products_df[products_df.product_category_name.isna()]"
   ]
  },
  {
   "cell_type": "code",
   "execution_count": 41,
   "id": "aee00a1e-29e0-4d2d-93ec-da23b4f3a135",
   "metadata": {},
   "outputs": [
    {
     "name": "stdout",
     "output_type": "stream",
     "text": [
      "cama_mesa_banho\n"
     ]
    }
   ],
   "source": [
    "#mengidentifikasi nilai mode\n",
    "mode_value = products_df['product_category_name'].mode()[0]\n",
    "print(mode_value)"
   ]
  },
  {
   "cell_type": "code",
   "execution_count": 42,
   "id": "4ea5a260-93c7-45cc-a4c6-0b540a8fcdd0",
   "metadata": {},
   "outputs": [],
   "source": [
    "# Mengganti missing value dengan mode atau dengan Unknown\n",
    "#products_df['product_category_name'] = products_df['product_category_name'].fillna(mode_value)\n",
    "products_df['product_category_name'] = products_df['product_category_name'].fillna(\"Unknown\")"
   ]
  },
  {
   "cell_type": "code",
   "execution_count": 43,
   "id": "89d8db1b-93a5-4238-9dd2-d25486e03b68",
   "metadata": {},
   "outputs": [
    {
     "name": "stdout",
     "output_type": "stream",
     "text": [
      "0\n"
     ]
    }
   ],
   "source": [
    "# Memeriksa hasil penggantian\n",
    "print(products_df['product_category_name'].isnull().sum()) "
   ]
  },
  {
   "cell_type": "code",
   "execution_count": 44,
   "id": "4e4c743c-bacb-4c34-8f09-450ac9095063",
   "metadata": {},
   "outputs": [],
   "source": [
    "# Mengisi missing value dengan mean (product_name_lenght, product_description_lenght)\n",
    "mean_product_name_lenght = products_df['product_name_lenght'].mean()\n",
    "products_df['product_name_lenght'] = products_df['product_name_lenght'].fillna(mean_product_name_lenght)\n",
    "\n",
    "# Mengisi missing value dengan mean untuk 'product_description_lenght'\n",
    "mean_product_description_lenght = products_df['product_description_lenght'].mean()\n",
    "products_df['product_description_lenght'] = products_df['product_description_lenght'].fillna(mean_product_description_lenght)\n",
    "\n",
    "# Mengisi missing value dengan nilai default 0\n",
    "products_df['product_photos_qty'] = products_df['product_photos_qty'].fillna(0)\n",
    "products_df['product_weight_g'] = products_df['product_weight_g'].fillna(0)\n",
    "products_df['product_length_cm'] = products_df['product_length_cm'].fillna(0)\n",
    "products_df['product_height_cm'] = products_df['product_height_cm'].fillna(0)\n",
    "products_df['product_width_cm'] = products_df['product_width_cm'].fillna(0)"
   ]
  },
  {
   "cell_type": "code",
   "execution_count": 45,
   "id": "6432c9e1-69f4-4995-8e70-e2b6c6661ad6",
   "metadata": {},
   "outputs": [
    {
     "name": "stdout",
     "output_type": "stream",
     "text": [
      "0\n",
      "0\n",
      "0\n",
      "0\n",
      "0\n",
      "0\n",
      "0\n"
     ]
    }
   ],
   "source": [
    "# Memeriksa apakah masih ada missing value\n",
    "print(products_df['product_name_lenght'].isnull().sum())\n",
    "print(products_df['product_description_lenght'].isnull().sum())\n",
    "print(products_df['product_photos_qty'].isnull().sum())\n",
    "print(products_df['product_weight_g'].isnull().sum())\n",
    "print(products_df['product_length_cm'].isnull().sum())\n",
    "print(products_df['product_height_cm'].isnull().sum())\n",
    "print(products_df['product_width_cm'].isnull().sum())"
   ]
  },
  {
   "cell_type": "code",
   "execution_count": 46,
   "id": "e5913e12-b607-435b-95cd-a27ee6f5324a",
   "metadata": {},
   "outputs": [
    {
     "data": {
      "text/plain": [
       "product_id                    0\n",
       "product_category_name         0\n",
       "product_name_lenght           0\n",
       "product_description_lenght    0\n",
       "product_photos_qty            0\n",
       "product_weight_g              0\n",
       "product_length_cm             0\n",
       "product_height_cm             0\n",
       "product_width_cm              0\n",
       "dtype: int64"
      ]
     },
     "execution_count": 46,
     "metadata": {},
     "output_type": "execute_result"
    }
   ],
   "source": [
    "#cek missing value\n",
    "products_df.isna().sum()"
   ]
  },
  {
   "cell_type": "code",
   "execution_count": 47,
   "id": "3160653a-2273-4473-b1d1-6a5b42cfd3e0",
   "metadata": {},
   "outputs": [
    {
     "data": {
      "text/html": [
       "<div>\n",
       "<style scoped>\n",
       "    .dataframe tbody tr th:only-of-type {\n",
       "        vertical-align: middle;\n",
       "    }\n",
       "\n",
       "    .dataframe tbody tr th {\n",
       "        vertical-align: top;\n",
       "    }\n",
       "\n",
       "    .dataframe thead th {\n",
       "        text-align: right;\n",
       "    }\n",
       "</style>\n",
       "<table border=\"1\" class=\"dataframe\">\n",
       "  <thead>\n",
       "    <tr style=\"text-align: right;\">\n",
       "      <th></th>\n",
       "      <th>product_name_lenght</th>\n",
       "      <th>product_description_lenght</th>\n",
       "      <th>product_photos_qty</th>\n",
       "      <th>product_weight_g</th>\n",
       "      <th>product_length_cm</th>\n",
       "      <th>product_height_cm</th>\n",
       "      <th>product_width_cm</th>\n",
       "    </tr>\n",
       "  </thead>\n",
       "  <tbody>\n",
       "    <tr>\n",
       "      <th>count</th>\n",
       "      <td>32951.000000</td>\n",
       "      <td>32951.000000</td>\n",
       "      <td>32951.000000</td>\n",
       "      <td>32951.000000</td>\n",
       "      <td>32951.000000</td>\n",
       "      <td>32951.000000</td>\n",
       "      <td>32951.000000</td>\n",
       "    </tr>\n",
       "    <tr>\n",
       "      <th>mean</th>\n",
       "      <td>48.476949</td>\n",
       "      <td>771.495285</td>\n",
       "      <td>2.148463</td>\n",
       "      <td>2276.334315</td>\n",
       "      <td>30.813207</td>\n",
       "      <td>16.936633</td>\n",
       "      <td>23.195320</td>\n",
       "    </tr>\n",
       "    <tr>\n",
       "      <th>std</th>\n",
       "      <td>10.150458</td>\n",
       "      <td>629.208849</td>\n",
       "      <td>1.745732</td>\n",
       "      <td>4281.945502</td>\n",
       "      <td>16.915648</td>\n",
       "      <td>13.637779</td>\n",
       "      <td>12.080033</td>\n",
       "    </tr>\n",
       "    <tr>\n",
       "      <th>min</th>\n",
       "      <td>5.000000</td>\n",
       "      <td>4.000000</td>\n",
       "      <td>0.000000</td>\n",
       "      <td>0.000000</td>\n",
       "      <td>0.000000</td>\n",
       "      <td>0.000000</td>\n",
       "      <td>0.000000</td>\n",
       "    </tr>\n",
       "    <tr>\n",
       "      <th>25%</th>\n",
       "      <td>42.000000</td>\n",
       "      <td>344.000000</td>\n",
       "      <td>1.000000</td>\n",
       "      <td>300.000000</td>\n",
       "      <td>18.000000</td>\n",
       "      <td>8.000000</td>\n",
       "      <td>15.000000</td>\n",
       "    </tr>\n",
       "    <tr>\n",
       "      <th>50%</th>\n",
       "      <td>51.000000</td>\n",
       "      <td>604.000000</td>\n",
       "      <td>1.000000</td>\n",
       "      <td>700.000000</td>\n",
       "      <td>25.000000</td>\n",
       "      <td>13.000000</td>\n",
       "      <td>20.000000</td>\n",
       "    </tr>\n",
       "    <tr>\n",
       "      <th>75%</th>\n",
       "      <td>57.000000</td>\n",
       "      <td>961.000000</td>\n",
       "      <td>3.000000</td>\n",
       "      <td>1900.000000</td>\n",
       "      <td>38.000000</td>\n",
       "      <td>21.000000</td>\n",
       "      <td>30.000000</td>\n",
       "    </tr>\n",
       "    <tr>\n",
       "      <th>max</th>\n",
       "      <td>76.000000</td>\n",
       "      <td>3992.000000</td>\n",
       "      <td>20.000000</td>\n",
       "      <td>40425.000000</td>\n",
       "      <td>105.000000</td>\n",
       "      <td>105.000000</td>\n",
       "      <td>118.000000</td>\n",
       "    </tr>\n",
       "  </tbody>\n",
       "</table>\n",
       "</div>"
      ],
      "text/plain": [
       "       product_name_lenght  product_description_lenght  product_photos_qty  \\\n",
       "count         32951.000000                32951.000000        32951.000000   \n",
       "mean             48.476949                  771.495285            2.148463   \n",
       "std              10.150458                  629.208849            1.745732   \n",
       "min               5.000000                    4.000000            0.000000   \n",
       "25%              42.000000                  344.000000            1.000000   \n",
       "50%              51.000000                  604.000000            1.000000   \n",
       "75%              57.000000                  961.000000            3.000000   \n",
       "max              76.000000                 3992.000000           20.000000   \n",
       "\n",
       "       product_weight_g  product_length_cm  product_height_cm  \\\n",
       "count      32951.000000       32951.000000       32951.000000   \n",
       "mean        2276.334315          30.813207          16.936633   \n",
       "std         4281.945502          16.915648          13.637779   \n",
       "min            0.000000           0.000000           0.000000   \n",
       "25%          300.000000          18.000000           8.000000   \n",
       "50%          700.000000          25.000000          13.000000   \n",
       "75%         1900.000000          38.000000          21.000000   \n",
       "max        40425.000000         105.000000         105.000000   \n",
       "\n",
       "       product_width_cm  \n",
       "count      32951.000000  \n",
       "mean          23.195320  \n",
       "std           12.080033  \n",
       "min            0.000000  \n",
       "25%           15.000000  \n",
       "50%           20.000000  \n",
       "75%           30.000000  \n",
       "max          118.000000  "
      ]
     },
     "execution_count": 47,
     "metadata": {},
     "output_type": "execute_result"
    }
   ],
   "source": [
    "# memeriksa parameter statistik dari kolom numerik\n",
    "products_df.describe()"
   ]
  },
  {
   "cell_type": "raw",
   "id": "18bab44f-a5e0-4830-9171-7ec3b8b6e8e4",
   "metadata": {},
   "source": [
    "Insight :\n",
    "1. dataframe orders_df, untuk kolom order_purchase_timestamp, order_delivered_carrier_date, order_delivered_customer_date, order_estimated_delivery_date tipe datanya setelah cleansing adalah datetime\n",
    "2. dataframe order_items_df untuk kolom shipping_limit_date tipe datanya asetlah cleansing adalah datetime\n",
    "3. dataframe products_df terdapat missing value yang cukup banyak pada kolom product_category_name di isi dengan Unknown, sedangan untuk kolom product_name_lenght, product_description_lenght, product_photos_qty, product_weight_g, product_length_cm, product_height_cm, product_width_cm di isi dengan default value 0."
   ]
  },
  {
   "cell_type": "markdown",
   "id": "dc5e57a9-3f42-4115-a28c-c364b73d4ae4",
   "metadata": {
    "jp-MarkdownHeadingCollapsed": true
   },
   "source": [
    "### Exploratory Data Analysis (EDA)"
   ]
  },
  {
   "cell_type": "markdown",
   "id": "e71005a9-e8b8-473a-91fe-5bbdfa13979c",
   "metadata": {},
   "source": [
    "### Explore ..."
   ]
  },
  {
   "cell_type": "code",
   "execution_count": 50,
   "id": "ec8fd5a5-7fba-4618-b600-29f8c4093754",
   "metadata": {},
   "outputs": [
    {
     "data": {
      "text/html": [
       "<div>\n",
       "<style scoped>\n",
       "    .dataframe tbody tr th:only-of-type {\n",
       "        vertical-align: middle;\n",
       "    }\n",
       "\n",
       "    .dataframe tbody tr th {\n",
       "        vertical-align: top;\n",
       "    }\n",
       "\n",
       "    .dataframe thead th {\n",
       "        text-align: right;\n",
       "    }\n",
       "</style>\n",
       "<table border=\"1\" class=\"dataframe\">\n",
       "  <thead>\n",
       "    <tr style=\"text-align: right;\">\n",
       "      <th></th>\n",
       "      <th>order_id</th>\n",
       "      <th>customer_id</th>\n",
       "      <th>order_status</th>\n",
       "      <th>order_purchase_timestamp</th>\n",
       "      <th>order_approved_at</th>\n",
       "      <th>order_delivered_carrier_date</th>\n",
       "      <th>order_delivered_customer_date</th>\n",
       "      <th>order_estimated_delivery_date</th>\n",
       "    </tr>\n",
       "  </thead>\n",
       "  <tbody>\n",
       "    <tr>\n",
       "      <th>count</th>\n",
       "      <td>99441</td>\n",
       "      <td>99441</td>\n",
       "      <td>99441</td>\n",
       "      <td>99441</td>\n",
       "      <td>99281</td>\n",
       "      <td>97658</td>\n",
       "      <td>96476</td>\n",
       "      <td>99441</td>\n",
       "    </tr>\n",
       "    <tr>\n",
       "      <th>unique</th>\n",
       "      <td>99441</td>\n",
       "      <td>99441</td>\n",
       "      <td>8</td>\n",
       "      <td>NaN</td>\n",
       "      <td>90733</td>\n",
       "      <td>NaN</td>\n",
       "      <td>NaN</td>\n",
       "      <td>NaN</td>\n",
       "    </tr>\n",
       "    <tr>\n",
       "      <th>top</th>\n",
       "      <td>e481f51cbdc54678b7cc49136f2d6af7</td>\n",
       "      <td>9ef432eb6251297304e76186b10a928d</td>\n",
       "      <td>delivered</td>\n",
       "      <td>NaN</td>\n",
       "      <td>2018-02-27 04:31:10</td>\n",
       "      <td>NaN</td>\n",
       "      <td>NaN</td>\n",
       "      <td>NaN</td>\n",
       "    </tr>\n",
       "    <tr>\n",
       "      <th>freq</th>\n",
       "      <td>1</td>\n",
       "      <td>1</td>\n",
       "      <td>96478</td>\n",
       "      <td>NaN</td>\n",
       "      <td>9</td>\n",
       "      <td>NaN</td>\n",
       "      <td>NaN</td>\n",
       "      <td>NaN</td>\n",
       "    </tr>\n",
       "    <tr>\n",
       "      <th>mean</th>\n",
       "      <td>NaN</td>\n",
       "      <td>NaN</td>\n",
       "      <td>NaN</td>\n",
       "      <td>2017-12-31 08:43:12.776581120</td>\n",
       "      <td>NaN</td>\n",
       "      <td>2018-01-04 21:49:48.138278656</td>\n",
       "      <td>2018-01-14 12:09:19.035542272</td>\n",
       "      <td>2018-01-24 03:08:37.730111232</td>\n",
       "    </tr>\n",
       "    <tr>\n",
       "      <th>min</th>\n",
       "      <td>NaN</td>\n",
       "      <td>NaN</td>\n",
       "      <td>NaN</td>\n",
       "      <td>2016-09-04 21:15:19</td>\n",
       "      <td>NaN</td>\n",
       "      <td>2016-10-08 10:34:01</td>\n",
       "      <td>2016-10-11 13:46:32</td>\n",
       "      <td>2016-09-30 00:00:00</td>\n",
       "    </tr>\n",
       "    <tr>\n",
       "      <th>25%</th>\n",
       "      <td>NaN</td>\n",
       "      <td>NaN</td>\n",
       "      <td>NaN</td>\n",
       "      <td>2017-09-12 14:46:19</td>\n",
       "      <td>NaN</td>\n",
       "      <td>2017-09-15 22:28:50.249999872</td>\n",
       "      <td>2017-09-25 22:07:22.249999872</td>\n",
       "      <td>2017-10-03 00:00:00</td>\n",
       "    </tr>\n",
       "    <tr>\n",
       "      <th>50%</th>\n",
       "      <td>NaN</td>\n",
       "      <td>NaN</td>\n",
       "      <td>NaN</td>\n",
       "      <td>2018-01-18 23:04:36</td>\n",
       "      <td>NaN</td>\n",
       "      <td>2018-01-24 16:10:58</td>\n",
       "      <td>2018-02-02 19:28:10.500000</td>\n",
       "      <td>2018-02-15 00:00:00</td>\n",
       "    </tr>\n",
       "    <tr>\n",
       "      <th>75%</th>\n",
       "      <td>NaN</td>\n",
       "      <td>NaN</td>\n",
       "      <td>NaN</td>\n",
       "      <td>2018-05-04 15:42:16</td>\n",
       "      <td>NaN</td>\n",
       "      <td>2018-05-08 13:37:45</td>\n",
       "      <td>2018-05-15 22:48:52.249999872</td>\n",
       "      <td>2018-05-25 00:00:00</td>\n",
       "    </tr>\n",
       "    <tr>\n",
       "      <th>max</th>\n",
       "      <td>NaN</td>\n",
       "      <td>NaN</td>\n",
       "      <td>NaN</td>\n",
       "      <td>2018-10-17 17:30:18</td>\n",
       "      <td>NaN</td>\n",
       "      <td>2018-09-11 19:48:28</td>\n",
       "      <td>2018-10-17 13:22:46</td>\n",
       "      <td>2018-11-12 00:00:00</td>\n",
       "    </tr>\n",
       "  </tbody>\n",
       "</table>\n",
       "</div>"
      ],
      "text/plain": [
       "                                order_id                       customer_id  \\\n",
       "count                              99441                             99441   \n",
       "unique                             99441                             99441   \n",
       "top     e481f51cbdc54678b7cc49136f2d6af7  9ef432eb6251297304e76186b10a928d   \n",
       "freq                                   1                                 1   \n",
       "mean                                 NaN                               NaN   \n",
       "min                                  NaN                               NaN   \n",
       "25%                                  NaN                               NaN   \n",
       "50%                                  NaN                               NaN   \n",
       "75%                                  NaN                               NaN   \n",
       "max                                  NaN                               NaN   \n",
       "\n",
       "       order_status       order_purchase_timestamp    order_approved_at  \\\n",
       "count         99441                          99441                99281   \n",
       "unique            8                            NaN                90733   \n",
       "top       delivered                            NaN  2018-02-27 04:31:10   \n",
       "freq          96478                            NaN                    9   \n",
       "mean            NaN  2017-12-31 08:43:12.776581120                  NaN   \n",
       "min             NaN            2016-09-04 21:15:19                  NaN   \n",
       "25%             NaN            2017-09-12 14:46:19                  NaN   \n",
       "50%             NaN            2018-01-18 23:04:36                  NaN   \n",
       "75%             NaN            2018-05-04 15:42:16                  NaN   \n",
       "max             NaN            2018-10-17 17:30:18                  NaN   \n",
       "\n",
       "         order_delivered_carrier_date  order_delivered_customer_date  \\\n",
       "count                           97658                          96476   \n",
       "unique                            NaN                            NaN   \n",
       "top                               NaN                            NaN   \n",
       "freq                              NaN                            NaN   \n",
       "mean    2018-01-04 21:49:48.138278656  2018-01-14 12:09:19.035542272   \n",
       "min               2016-10-08 10:34:01            2016-10-11 13:46:32   \n",
       "25%     2017-09-15 22:28:50.249999872  2017-09-25 22:07:22.249999872   \n",
       "50%               2018-01-24 16:10:58     2018-02-02 19:28:10.500000   \n",
       "75%               2018-05-08 13:37:45  2018-05-15 22:48:52.249999872   \n",
       "max               2018-09-11 19:48:28            2018-10-17 13:22:46   \n",
       "\n",
       "        order_estimated_delivery_date  \n",
       "count                           99441  \n",
       "unique                            NaN  \n",
       "top                               NaN  \n",
       "freq                              NaN  \n",
       "mean    2018-01-24 03:08:37.730111232  \n",
       "min               2016-09-30 00:00:00  \n",
       "25%               2017-10-03 00:00:00  \n",
       "50%               2018-02-15 00:00:00  \n",
       "75%               2018-05-25 00:00:00  \n",
       "max               2018-11-12 00:00:00  "
      ]
     },
     "execution_count": 50,
     "metadata": {},
     "output_type": "execute_result"
    }
   ],
   "source": [
    "# explor data orders\n",
    "orders_df.describe(include=\"all\")"
   ]
  },
  {
   "cell_type": "code",
   "execution_count": 51,
   "id": "0599b408-716d-4dfd-ab79-920d64ba7502",
   "metadata": {},
   "outputs": [],
   "source": [
    "# Mengonversi 'order_purchase_timestamp' ke tipe datetime dan filter untuk tahun 2018\n",
    "orders_df['order_purchase_timestamp'] = pd.to_datetime(orders_df['order_purchase_timestamp'])\n",
    "orders_2018 = orders_df[orders_df['order_purchase_timestamp'].dt.year == 2018]"
   ]
  },
  {
   "cell_type": "code",
   "execution_count": 52,
   "id": "81c7e054-8477-4a02-8081-b939ac737a34",
   "metadata": {},
   "outputs": [
    {
     "data": {
      "text/html": [
       "<div>\n",
       "<style scoped>\n",
       "    .dataframe tbody tr th:only-of-type {\n",
       "        vertical-align: middle;\n",
       "    }\n",
       "\n",
       "    .dataframe tbody tr th {\n",
       "        vertical-align: top;\n",
       "    }\n",
       "\n",
       "    .dataframe thead th {\n",
       "        text-align: right;\n",
       "    }\n",
       "</style>\n",
       "<table border=\"1\" class=\"dataframe\">\n",
       "  <thead>\n",
       "    <tr style=\"text-align: right;\">\n",
       "      <th></th>\n",
       "      <th>order_id</th>\n",
       "      <th>order_item_id</th>\n",
       "      <th>product_id</th>\n",
       "      <th>seller_id</th>\n",
       "      <th>shipping_limit_date</th>\n",
       "      <th>price</th>\n",
       "      <th>freight_value</th>\n",
       "    </tr>\n",
       "  </thead>\n",
       "  <tbody>\n",
       "    <tr>\n",
       "      <th>count</th>\n",
       "      <td>112650</td>\n",
       "      <td>112650.000000</td>\n",
       "      <td>112650</td>\n",
       "      <td>112650</td>\n",
       "      <td>112650</td>\n",
       "      <td>112650.000000</td>\n",
       "      <td>112650.000000</td>\n",
       "    </tr>\n",
       "    <tr>\n",
       "      <th>unique</th>\n",
       "      <td>98666</td>\n",
       "      <td>NaN</td>\n",
       "      <td>32951</td>\n",
       "      <td>3095</td>\n",
       "      <td>NaN</td>\n",
       "      <td>NaN</td>\n",
       "      <td>NaN</td>\n",
       "    </tr>\n",
       "    <tr>\n",
       "      <th>top</th>\n",
       "      <td>8272b63d03f5f79c56e9e4120aec44ef</td>\n",
       "      <td>NaN</td>\n",
       "      <td>aca2eb7d00ea1a7b8ebd4e68314663af</td>\n",
       "      <td>6560211a19b47992c3666cc44a7e94c0</td>\n",
       "      <td>NaN</td>\n",
       "      <td>NaN</td>\n",
       "      <td>NaN</td>\n",
       "    </tr>\n",
       "    <tr>\n",
       "      <th>freq</th>\n",
       "      <td>21</td>\n",
       "      <td>NaN</td>\n",
       "      <td>527</td>\n",
       "      <td>2033</td>\n",
       "      <td>NaN</td>\n",
       "      <td>NaN</td>\n",
       "      <td>NaN</td>\n",
       "    </tr>\n",
       "    <tr>\n",
       "      <th>mean</th>\n",
       "      <td>NaN</td>\n",
       "      <td>1.197834</td>\n",
       "      <td>NaN</td>\n",
       "      <td>NaN</td>\n",
       "      <td>2018-01-07 15:36:52.192685312</td>\n",
       "      <td>120.653739</td>\n",
       "      <td>19.990320</td>\n",
       "    </tr>\n",
       "    <tr>\n",
       "      <th>min</th>\n",
       "      <td>NaN</td>\n",
       "      <td>1.000000</td>\n",
       "      <td>NaN</td>\n",
       "      <td>NaN</td>\n",
       "      <td>2016-09-19 00:15:34</td>\n",
       "      <td>0.850000</td>\n",
       "      <td>0.000000</td>\n",
       "    </tr>\n",
       "    <tr>\n",
       "      <th>25%</th>\n",
       "      <td>NaN</td>\n",
       "      <td>1.000000</td>\n",
       "      <td>NaN</td>\n",
       "      <td>NaN</td>\n",
       "      <td>2017-09-20 20:57:27.500000</td>\n",
       "      <td>39.900000</td>\n",
       "      <td>13.080000</td>\n",
       "    </tr>\n",
       "    <tr>\n",
       "      <th>50%</th>\n",
       "      <td>NaN</td>\n",
       "      <td>1.000000</td>\n",
       "      <td>NaN</td>\n",
       "      <td>NaN</td>\n",
       "      <td>2018-01-26 13:59:35</td>\n",
       "      <td>74.990000</td>\n",
       "      <td>16.260000</td>\n",
       "    </tr>\n",
       "    <tr>\n",
       "      <th>75%</th>\n",
       "      <td>NaN</td>\n",
       "      <td>1.000000</td>\n",
       "      <td>NaN</td>\n",
       "      <td>NaN</td>\n",
       "      <td>2018-05-10 14:34:00.750000128</td>\n",
       "      <td>134.900000</td>\n",
       "      <td>21.150000</td>\n",
       "    </tr>\n",
       "    <tr>\n",
       "      <th>max</th>\n",
       "      <td>NaN</td>\n",
       "      <td>21.000000</td>\n",
       "      <td>NaN</td>\n",
       "      <td>NaN</td>\n",
       "      <td>2020-04-09 22:35:08</td>\n",
       "      <td>6735.000000</td>\n",
       "      <td>409.680000</td>\n",
       "    </tr>\n",
       "    <tr>\n",
       "      <th>std</th>\n",
       "      <td>NaN</td>\n",
       "      <td>0.705124</td>\n",
       "      <td>NaN</td>\n",
       "      <td>NaN</td>\n",
       "      <td>NaN</td>\n",
       "      <td>183.633928</td>\n",
       "      <td>15.806405</td>\n",
       "    </tr>\n",
       "  </tbody>\n",
       "</table>\n",
       "</div>"
      ],
      "text/plain": [
       "                                order_id  order_item_id  \\\n",
       "count                             112650  112650.000000   \n",
       "unique                             98666            NaN   \n",
       "top     8272b63d03f5f79c56e9e4120aec44ef            NaN   \n",
       "freq                                  21            NaN   \n",
       "mean                                 NaN       1.197834   \n",
       "min                                  NaN       1.000000   \n",
       "25%                                  NaN       1.000000   \n",
       "50%                                  NaN       1.000000   \n",
       "75%                                  NaN       1.000000   \n",
       "max                                  NaN      21.000000   \n",
       "std                                  NaN       0.705124   \n",
       "\n",
       "                              product_id                         seller_id  \\\n",
       "count                             112650                            112650   \n",
       "unique                             32951                              3095   \n",
       "top     aca2eb7d00ea1a7b8ebd4e68314663af  6560211a19b47992c3666cc44a7e94c0   \n",
       "freq                                 527                              2033   \n",
       "mean                                 NaN                               NaN   \n",
       "min                                  NaN                               NaN   \n",
       "25%                                  NaN                               NaN   \n",
       "50%                                  NaN                               NaN   \n",
       "75%                                  NaN                               NaN   \n",
       "max                                  NaN                               NaN   \n",
       "std                                  NaN                               NaN   \n",
       "\n",
       "                  shipping_limit_date          price  freight_value  \n",
       "count                          112650  112650.000000  112650.000000  \n",
       "unique                            NaN            NaN            NaN  \n",
       "top                               NaN            NaN            NaN  \n",
       "freq                              NaN            NaN            NaN  \n",
       "mean    2018-01-07 15:36:52.192685312     120.653739      19.990320  \n",
       "min               2016-09-19 00:15:34       0.850000       0.000000  \n",
       "25%        2017-09-20 20:57:27.500000      39.900000      13.080000  \n",
       "50%               2018-01-26 13:59:35      74.990000      16.260000  \n",
       "75%     2018-05-10 14:34:00.750000128     134.900000      21.150000  \n",
       "max               2020-04-09 22:35:08    6735.000000     409.680000  \n",
       "std                               NaN     183.633928      15.806405  "
      ]
     },
     "execution_count": 52,
     "metadata": {},
     "output_type": "execute_result"
    }
   ],
   "source": [
    "# explor data order_items\n",
    "order_items_df.describe(include=\"all\")"
   ]
  },
  {
   "cell_type": "code",
   "execution_count": 53,
   "id": "26ee0f15-8496-4897-920d-d76076af75d2",
   "metadata": {},
   "outputs": [
    {
     "name": "stdout",
     "output_type": "stream",
     "text": [
      "                             seller_id      price\n",
      "680   4869f7a5dfa277a7dca6462dcf3b52b2  138414.60\n",
      "1419  955fee9216a65b617aa5c0531780ce60  117340.86\n",
      "1196  7d13fca15225358621be4086e1eb0964  113628.97\n",
      "159   1025f0e2d44d7041d6cf58b6550e0bfa  105196.71\n",
      "2331  fa1c13f2614d7b5c4749cbc52fecda94   95013.42\n"
     ]
    }
   ],
   "source": [
    "# Step - step menampilkan seller dengan penjualan tertinggi dan terrendah di tahun 2018\n",
    "\n",
    "orders_with_items = pd.merge(orders_2018, order_items_df, on='order_id')\n",
    "total_penjualan_per_seller = orders_with_items.groupby('seller_id')['price'].sum().reset_index()\n",
    "top_sellers = total_penjualan_per_seller.sort_values(by='price', ascending=False)\n",
    "print(top_sellers.head(5))"
   ]
  },
  {
   "cell_type": "code",
   "execution_count": 54,
   "id": "60d00603-9e86-46fa-a118-679cdc05dfd1",
   "metadata": {},
   "outputs": [
    {
     "name": "stdout",
     "output_type": "stream",
     "text": [
      "                             seller_id  price\n",
      "2068  dd533b429f380718b70ad9922c294bae   4.99\n",
      "584   3d62f86afa7c73be2628a3be1423f5a0   6.00\n",
      "304   1fa2d3def6adfa70e58c276bb64fe5bb   6.90\n",
      "687   4965a7002cca77301c82d3f91b82e1a9   8.49\n",
      "1423  95cca791657aabeff15a07eb152d7841   9.99\n"
     ]
    }
   ],
   "source": [
    "bottom_sellers = total_penjualan_per_seller.sort_values(by='price', ascending=True)\n",
    "print(bottom_sellers.head(5))"
   ]
  },
  {
   "cell_type": "code",
   "execution_count": 55,
   "id": "03ea5b8d-a223-4528-8f97-1a2c6db630ce",
   "metadata": {},
   "outputs": [
    {
     "name": "stdout",
     "output_type": "stream",
     "text": [
      "                           order_id                       customer_id  \\\n",
      "0  e481f51cbdc54678b7cc49136f2d6af7  9ef432eb6251297304e76186b10a928d   \n",
      "1  53cdb2fc8bc7dce0b6741e2150273451  b0830fb4747a6c6d20dea0b8c802d7ef   \n",
      "2  47770eb9100c2d0c44946d9cf07ec65d  41ce2a54c0b03bf3443c3d931a367089   \n",
      "3  949d5b44dbf5de918fe9c16f97b45f8a  f88197465ea7920adcdbec7375364d82   \n",
      "4  ad21c59c0840e6cb83a9ceb5573f8159  8ab97904e6daea8866dbdbc4fb7aad2c   \n",
      "\n",
      "  order_status order_purchase_timestamp    order_approved_at  \\\n",
      "0    delivered      2017-10-02 10:56:33  2017-10-02 11:07:15   \n",
      "1    delivered      2018-07-24 20:41:37  2018-07-26 03:24:27   \n",
      "2    delivered      2018-08-08 08:38:49  2018-08-08 08:55:23   \n",
      "3    delivered      2017-11-18 19:28:06  2017-11-18 19:45:59   \n",
      "4    delivered      2018-02-13 21:18:39  2018-02-13 22:20:29   \n",
      "\n",
      "  order_delivered_carrier_date order_delivered_customer_date  \\\n",
      "0          2017-10-04 19:55:00           2017-10-10 21:25:13   \n",
      "1          2018-07-26 14:31:00           2018-08-07 15:27:45   \n",
      "2          2018-08-08 13:50:00           2018-08-17 18:06:29   \n",
      "3          2017-11-22 13:39:59           2017-12-02 00:28:42   \n",
      "4          2018-02-14 19:46:34           2018-02-16 18:17:02   \n",
      "\n",
      "  order_estimated_delivery_date  order_item_id  \\\n",
      "0                    2017-10-18              1   \n",
      "1                    2018-08-13              1   \n",
      "2                    2018-09-04              1   \n",
      "3                    2017-12-15              1   \n",
      "4                    2018-02-26              1   \n",
      "\n",
      "                         product_id                         seller_id  \\\n",
      "0  87285b34884572647811a353c7ac498a  3504c0cb71d7fa48d967e0e4c94d59d9   \n",
      "1  595fac2a385ac33a80bd5114aec74eb8  289cdb325fb7e7f891c38608bf9e0962   \n",
      "2  aa4383b373c6aca5d8797843e5594415  4869f7a5dfa277a7dca6462dcf3b52b2   \n",
      "3  d0b61bfb1de832b15ba9d266ca96e5b0  66922902710d126a0e7d26b0e3805106   \n",
      "4  65266b2da20d04dbe00c5c2d3bb7859e  2c9e548be18521d1c43cde1c582c6de8   \n",
      "\n",
      "  shipping_limit_date   price  freight_value  \n",
      "0 2017-10-06 11:07:15   29.99           8.72  \n",
      "1 2018-07-30 03:24:27  118.70          22.76  \n",
      "2 2018-08-13 08:55:23  159.90          19.22  \n",
      "3 2017-11-23 19:45:59   45.00          27.20  \n",
      "4 2018-02-19 20:31:37   19.90           8.72  \n"
     ]
    }
   ],
   "source": [
    "# Step - step menampilkan kategori produk dengan penjualan tertinggi dan terrendah di tahun 2018\n",
    "\n",
    "merged_df = pd.merge(orders_df, order_items_df, on='order_id', how='inner')\n",
    "print(merged_df.head())"
   ]
  },
  {
   "cell_type": "code",
   "execution_count": 56,
   "id": "a0857d4d-9912-4ec4-9e3b-643b01a215bd",
   "metadata": {},
   "outputs": [
    {
     "name": "stdout",
     "output_type": "stream",
     "text": [
      "\n",
      "One-to-One Relationships:\n",
      "                               order_id  order_item_id\n",
      "0      00010242fe8c5a6d1ba2dd792cb16214              1\n",
      "1      00018f77f2f0320c557190d7a144bdd3              1\n",
      "2      000229ec398224ef6ca0657da4fc703e              1\n",
      "3      00024acbcdf0a6daa1e931b038114c75              1\n",
      "4      00042b26cf59d7ce69dfabb4e55b4fd9              1\n",
      "...                                 ...            ...\n",
      "98661  fffc94f6ce00a00581880bf54a75a037              1\n",
      "98662  fffcd46ef2263f404302a634eb57f7eb              1\n",
      "98663  fffce4705a9662cd70adb13d4a31832d              1\n",
      "98664  fffe18544ffabc95dfada21779c9644f              1\n",
      "98665  fffe41c64501cc87c801fd61db3f6244              1\n",
      "\n",
      "[88863 rows x 2 columns]\n"
     ]
    }
   ],
   "source": [
    "# Mencari hubungan antara orders_df dan order_items_df\n",
    "\n",
    "# Mengelompokkan berdasarkan 'order_id' dan menghitung jumlah 'order_item_id' untuk setiap 'order_id'\n",
    "grouped = order_items_df.groupby('order_id')['order_item_id'].count().reset_index()\n",
    "one_to_one = grouped[grouped['order_item_id'] == 1]\n",
    "one_to_many = grouped[grouped['order_item_id'] > 1]\n",
    "print(\"\\nOne-to-One Relationships:\")\n",
    "print(one_to_one)"
   ]
  },
  {
   "cell_type": "code",
   "execution_count": 57,
   "id": "f4238f79-5461-41ef-8a9b-b25860e227dd",
   "metadata": {},
   "outputs": [
    {
     "name": "stdout",
     "output_type": "stream",
     "text": [
      "One-to-Many Relationships:\n",
      "                               order_id  order_item_id\n",
      "13     0008288aa423d2a3f00fcb17cd7d8719              2\n",
      "31     00143d0f86d6fbd9f9b38ab440ac16f5              3\n",
      "39     001ab0a7578dd66cd4b0a71f5b6e1e41              3\n",
      "43     001d8f0e34a38c37f7dba2a37d4eba8b              2\n",
      "69     002c9def9c9b951b1bec6d50753c9891              2\n",
      "...                                 ...            ...\n",
      "98603  ffd84ab39cd5e873d8dba24342e65c01              2\n",
      "98626  ffe4b41e99d39f0b837a239110260530              2\n",
      "98637  ffecd5a79a0084f6a592288c67e3c298              3\n",
      "98654  fff8287bbae429a99bb7e8c21d151c41              2\n",
      "98659  fffb9224b6fc7c43ebb0904318b10b5f              4\n",
      "\n",
      "[9803 rows x 2 columns]\n"
     ]
    }
   ],
   "source": [
    "print(\"One-to-Many Relationships:\")\n",
    "print(one_to_many)"
   ]
  },
  {
   "cell_type": "code",
   "execution_count": 58,
   "id": "77cc64d6-af9d-40f8-854e-38b20664ba88",
   "metadata": {},
   "outputs": [
    {
     "name": "stdout",
     "output_type": "stream",
     "text": [
      "                                order_id  order_item_id  \\\n",
      "13      0008288aa423d2a3f00fcb17cd7d8719              1   \n",
      "14      0008288aa423d2a3f00fcb17cd7d8719              2   \n",
      "32      00143d0f86d6fbd9f9b38ab440ac16f5              1   \n",
      "33      00143d0f86d6fbd9f9b38ab440ac16f5              2   \n",
      "34      00143d0f86d6fbd9f9b38ab440ac16f5              3   \n",
      "...                                  ...            ...   \n",
      "112635  fff8287bbae429a99bb7e8c21d151c41              2   \n",
      "112640  fffb9224b6fc7c43ebb0904318b10b5f              1   \n",
      "112641  fffb9224b6fc7c43ebb0904318b10b5f              2   \n",
      "112642  fffb9224b6fc7c43ebb0904318b10b5f              3   \n",
      "112643  fffb9224b6fc7c43ebb0904318b10b5f              4   \n",
      "\n",
      "                              product_id                         seller_id  \\\n",
      "13      368c6c730842d78016ad823897a372db  1f50f920176fa81dab994f9023523100   \n",
      "14      368c6c730842d78016ad823897a372db  1f50f920176fa81dab994f9023523100   \n",
      "32      e95ee6822b66ac6058e2e4aff656071a  a17f621c590ea0fab3d5d883e1630ec6   \n",
      "33      e95ee6822b66ac6058e2e4aff656071a  a17f621c590ea0fab3d5d883e1630ec6   \n",
      "34      e95ee6822b66ac6058e2e4aff656071a  a17f621c590ea0fab3d5d883e1630ec6   \n",
      "...                                  ...                               ...   \n",
      "112635  bee2e070c39f3dd2f6883a17a5f0da45  4e922959ae960d389249c378d1c939f5   \n",
      "112640  43423cdffde7fda63d0414ed38c11a73  b1fc4f64df5a0e8b6913ab38803c57a9   \n",
      "112641  43423cdffde7fda63d0414ed38c11a73  b1fc4f64df5a0e8b6913ab38803c57a9   \n",
      "112642  43423cdffde7fda63d0414ed38c11a73  b1fc4f64df5a0e8b6913ab38803c57a9   \n",
      "112643  43423cdffde7fda63d0414ed38c11a73  b1fc4f64df5a0e8b6913ab38803c57a9   \n",
      "\n",
      "       shipping_limit_date   price  freight_value  \n",
      "13     2018-02-21 02:55:52   49.90          13.37  \n",
      "14     2018-02-21 02:55:52   49.90          13.37  \n",
      "32     2017-10-20 16:07:52   21.33          15.10  \n",
      "33     2017-10-20 16:07:52   21.33          15.10  \n",
      "34     2017-10-20 16:07:52   21.33          15.10  \n",
      "...                    ...     ...            ...  \n",
      "112635 2018-03-27 12:29:22  180.00          48.14  \n",
      "112640 2017-11-03 02:55:58   55.00          34.19  \n",
      "112641 2017-11-03 02:55:58   55.00          34.19  \n",
      "112642 2017-11-03 02:55:58   55.00          34.19  \n",
      "112643 2017-11-03 02:55:58   55.00          34.19  \n",
      "\n",
      "[23787 rows x 7 columns]\n"
     ]
    }
   ],
   "source": [
    "# Mengambil semua order_items_df yang memiliki 'order_id' dengan lebih dari satu item\n",
    "one_to_many_items = order_items_df[order_items_df['order_id'].isin(one_to_many['order_id'])]\n",
    "print(one_to_many_items)"
   ]
  },
  {
   "cell_type": "code",
   "execution_count": 59,
   "id": "5fb004b2-2706-4085-b91b-b7cfb0f81425",
   "metadata": {},
   "outputs": [
    {
     "name": "stdout",
     "output_type": "stream",
     "text": [
      "     product_category_name  order_item_id\n",
      "12            beleza_saude           5951\n",
      "14         cama_mesa_banho           5884\n",
      "45  informatica_acessorios           4708\n",
      "33           esporte_lazer           4527\n",
      "55        moveis_decoracao           4118\n"
     ]
    }
   ],
   "source": [
    "# Gabungkan data orders_with_items dengan products untuk mendapatkan kategori produk\n",
    "orders_with_items_and_category = pd.merge(orders_with_items, products_df, on='product_id')\n",
    "\n",
    "# Menghitung jumlah item per kategori produk (menghitung jumlah 'order_item_id' per kategori)\n",
    "jumlah_item_per_kategori = orders_with_items_and_category.groupby('product_category_name')['order_item_id'].count().reset_index()\n",
    "top_kategori_by_item = jumlah_item_per_kategori.sort_values(by='order_item_id', ascending=False)\n",
    "top_5_kategori_by_item = top_kategori_by_item.head(5)\n",
    "print(top_5_kategori_by_item)"
   ]
  },
  {
   "cell_type": "code",
   "execution_count": 60,
   "id": "aa0040ca-5ed0-44b8-bacb-2750747b1649",
   "metadata": {},
   "outputs": [
    {
     "name": "stdout",
     "output_type": "stream",
     "text": [
      "            product_category_name  order_item_id\n",
      "18              cds_dvds_musicais              1\n",
      "38  fashion_roupa_infanto_juvenil              3\n",
      "47                     la_cuisine              4\n",
      "36                fashion_esporte              5\n",
      "61                       pc_gamer              5\n"
     ]
    }
   ],
   "source": [
    "bottom_kategori_by_item = jumlah_item_per_kategori.sort_values(by='order_item_id', ascending=True)\n",
    "bottom_5_kategori_by_item = bottom_kategori_by_item.head(5)\n",
    "print(bottom_5_kategori_by_item)"
   ]
  },
  {
   "cell_type": "raw",
   "id": "c9995519-4a8a-4d1a-8bb5-714210259797",
   "metadata": {},
   "source": [
    "Insight :\n",
    "1. explor data berfokus pada orders_df pada tahun 2018\n",
    "2. hubungan antara orders_df dengan order_items_df adalah one to one dan one to many\n",
    "3. satu order_item_id mewakili satu quantity produk, jadi memungkinkan satu order_id berisi 2 produk yang sama dimana masing-masing produk berada dalam order_item_id berbeda"
   ]
  },
  {
   "cell_type": "markdown",
   "id": "00ac9658-c4d6-4a2e-b788-8831dcda4818",
   "metadata": {},
   "source": [
    "## Visualization & Explanatory Analysis"
   ]
  },
  {
   "cell_type": "markdown",
   "id": "d2efa322-4d58-4895-9f19-7f436f717428",
   "metadata": {},
   "source": [
    "### Pertanyaan 1: Menampilkan 5 seller dengan total penjualan tertinggi di tahun 2018"
   ]
  },
  {
   "cell_type": "code",
   "execution_count": 63,
   "id": "0928aa60-2b95-4631-bbee-1e0fe6bd71cd",
   "metadata": {},
   "outputs": [
    {
     "data": {
      "image/png": "[encoded data removed]",
      "text/plain": [
       "<Figure size 1000x600 with 1 Axes>"
      ]
     },
     "metadata": {},
     "output_type": "display_data"
    }
   ],
   "source": [
    "# Step - step viasualisasi seller dengan total penjualan tertinggi di tahun 2018\n",
    "\n",
    "merged_ooi_df = pd.merge(orders_df, order_items_df, on='order_id', how='inner')\n",
    "merged_ooi_df['order_purchase_timestamp'] = pd.to_datetime(merged_ooi_df['order_purchase_timestamp'])\n",
    "merged_ooi_df['year'] = merged_ooi_df['order_purchase_timestamp'].dt.year\n",
    "merged_ooi_df_2018 = merged_ooi_df[merged_ooi_df['year'] == 2018].copy()\n",
    "\n",
    "# Menghitung total penjualan per seller (seller_id) dengan mengalikan harga dengan jumlah item per order_item\n",
    "merged_ooi_df_2018['total_sales'] = merged_ooi_df_2018['price'] * merged_ooi_df_2018['order_item_id']\n",
    "\n",
    "# Mengelompokkan data berdasarkan seller_id dan menghitung total penjualan untuk setiap seller\n",
    "seller_sales = merged_ooi_df_2018.groupby('seller_id')['total_sales'].sum().reset_index()\n",
    "\n",
    "sorted_sellers = seller_sales.sort_values(by='total_sales', ascending=False)\n",
    "top_5_sellers = sorted_sellers.head(5)\n",
    "\n",
    "# Membuat horizontal bar chart\n",
    "plt.figure(figsize=(10, 6))\n",
    "plt.barh(top_5_sellers['seller_id'].astype(str), top_5_sellers['total_sales'], color='skyblue')\n",
    "\n",
    "plt.title('5 Seller dengan Total Penjualan Tertinggi di Tahun 2018', fontsize=16)\n",
    "plt.xlabel('Total Penjualan', fontsize=12)\n",
    "plt.ylabel('Seller ID', fontsize=12)\n",
    "formatter = FuncFormatter(lambda x, pos: '{:,.0f}'.format(x))\n",
    "plt.gca().xaxis.set_major_formatter(formatter)\n",
    "plt.tight_layout()\n",
    "plt.show()"
   ]
  },
  {
   "cell_type": "markdown",
   "id": "aa18e95a-2cd0-42a5-aa2c-8414da1e5598",
   "metadata": {},
   "source": [
    "### Pertanyaan 2: Menampilkan 5 kategori produk dengan penjualan tertinggi dan terendah di tahun 2018"
   ]
  },
  {
   "cell_type": "code",
   "execution_count": 65,
   "id": "c1b41590-4fd5-4332-a4d5-be1176fe1017",
   "metadata": {},
   "outputs": [
    {
     "data": {
      "image/png": "[encoded data removed]",
      "text/plain": [
       "<Figure size 1400x600 with 2 Axes>"
      ]
     },
     "metadata": {},
     "output_type": "display_data"
    }
   ],
   "source": [
    "# Step - step viasualisasi5 kategori produk dengan penjualan tertinggi dan terendah di tahun 2018\n",
    "merged_op_df = pd.merge(order_items_df, products_df, on='product_id', how='inner')\n",
    "merged_op_df = pd.merge(merged_op_df, orders_df, on='order_id', how='inner')\n",
    "merged_op_df['order_purchase_timestamp'] = pd.to_datetime(merged_op_df['order_purchase_timestamp'])\n",
    "merged_op_df = merged_op_df[merged_op_df['order_purchase_timestamp'].dt.year == 2018]\n",
    "\n",
    "# Mengelompokkan data berdasarkan kategori produk, menghitung total jumlah item yang terjual\n",
    "category_sales = merged_op_df.groupby('product_category_name')['order_item_id'].count().reset_index()\n",
    "category_sales.rename(columns={'order_item_id': 'total_items_sold'}, inplace=True)\n",
    "category_sales_sorted = category_sales.sort_values(by='total_items_sold', ascending=False)\n",
    "top_categories = category_sales_sorted.head(5)\n",
    "bottom_categories = category_sales_sorted.tail(5)\n",
    "\n",
    "# Membuat subplot untuk menampilkan dua grafik dalam satu gambar\n",
    "fig, axes = plt.subplots(1, 2, figsize=(14, 6))\n",
    "\n",
    "# Grafik untuk 5 kategori produk dengan penjualan terlaris\n",
    "axes[0].bar(top_categories['product_category_name'], top_categories['total_items_sold'], color='green')\n",
    "axes[0].set_title('5 Kategori Produk Terlaris di Tahun 2018')\n",
    "axes[0].set_xlabel('Kategori Produk')\n",
    "axes[0].set_ylabel('Jumlah Item Terjual')\n",
    "axes[0].tick_params(axis='x', rotation=30)\n",
    "\n",
    "# Grafik untuk 5 kategori produk dengan penjualan terendah\n",
    "axes[1].bar(bottom_categories['product_category_name'], bottom_categories['total_items_sold'], color='red')\n",
    "axes[1].set_title('5 Kategori Produk Terendah di Tahun 2018')\n",
    "axes[1].set_xlabel('Kategori Produk')\n",
    "axes[1].set_ylabel('Jumlah Item Terjual')\n",
    "axes[1].tick_params(axis='x', rotation=30)\n",
    "plt.tight_layout()\n",
    "plt.show()"
   ]
  },
  {
   "cell_type": "markdown",
   "id": "6817b175-dc8d-4b8b-a5f7-c89e6383acd7",
   "metadata": {},
   "source": [
    "### Pertanyaan 3: Menampilkan 5 kategori produk dengan penjualan tertinggi setiap bulanya di tahun 2018"
   ]
  },
  {
   "cell_type": "code",
   "execution_count": 67,
   "id": "994d8017-7a03-4c23-854d-b2e8e9b461ec",
   "metadata": {},
   "outputs": [
    {
     "data": {
      "image/png": "[encoded data removed]",
      "text/plain": [
       "<Figure size 1200x600 with 1 Axes>"
      ]
     },
     "metadata": {},
     "output_type": "display_data"
    }
   ],
   "source": [
    "# Step - step viasualisasi line series 5 kategori produk dengan penjualan tertinggi pada tiapu bulan di tahun 2018\n",
    "\n",
    "merged_df = pd.merge(order_items_df, products_df, on='product_id', how='inner')\n",
    "merged_df = pd.merge(merged_df, orders_df, on='order_id', how='inner')\n",
    "merged_df['order_purchase_timestamp'] = pd.to_datetime(merged_df['order_purchase_timestamp'])\n",
    "merged_df['year_month'] = merged_df['order_purchase_timestamp'].dt.to_period('M')\n",
    "merged_df = merged_df[merged_df['order_purchase_timestamp'].dt.year == 2018]\n",
    "\n",
    "# Mengelompokkan data berdasarkan kategori produk dan bulan, menghitung total jumlah item yang terjual\n",
    "category_sales = merged_df.groupby(['product_category_name', 'year_month'])['order_item_id'].count().reset_index()\n",
    "category_sales.rename(columns={'order_item_id': 'total_items_sold'}, inplace=True)\n",
    "top_categories = category_sales.groupby('product_category_name')['total_items_sold'].sum().nlargest(5).index\n",
    "top_category_sales = category_sales[category_sales['product_category_name'].isin(top_categories)].copy()\n",
    "top_category_sales['year_month'] = top_category_sales['year_month'].dt.to_timestamp()\n",
    "\n",
    "# Visualisasi: Membuat grafik garis untuk 5 kategori produk teratas\n",
    "plt.figure(figsize=(12, 6))\n",
    "\n",
    "# Loop untuk setiap kategori dan plot data per bulan\n",
    "for category in top_categories:\n",
    "    category_data = top_category_sales[top_category_sales['product_category_name'] == category]\n",
    "    plt.plot(category_data['year_month'], category_data['total_items_sold'], label=category)\n",
    "\n",
    "plt.xlabel('Bulan')\n",
    "plt.ylabel('Jumlah Item Terjual')\n",
    "plt.title('5 Kategori Produk dengan Total Penjualan Tertinggi pada setiap bulan di Tahun 2018')\n",
    "plt.xticks(pd.date_range('2018-01-01', '2018-12-31', freq='MS'), rotation=45)  # Menyusun sumbu X untuk seluruh bulan\n",
    "plt.legend(title='Kategori Produk')\n",
    "plt.tight_layout()\n",
    "plt.show()"
   ]
  },
  {
   "cell_type": "raw",
   "id": "05fbb729-94e7-47e4-850f-7e9481933f51",
   "metadata": {},
   "source": [
    "Insight :\n",
    "1. Horizontal Bar Chart 5 Seller dengan Total Penjualan Tertinggi di Tahun 2018 menujukan seller dengan total penjualan paling banyak di tahun 2018\n",
    "2. Bar Chart 5 Kategori Produk Terlaris di Tahun 2018 menunjukkan kategori produk yang memiliki jumlah item terjual tertinggi pada tahun 2018. \n",
    "3. Bar Chart 5 Kategori Produk Terendah di Tahun 2018 menunjukkan kategori produk yang memiliki jumlah item terjual terrendah pada tahun 2018. \n",
    "4. Line Chart 5 Kategori Produk dengan Total Penjualan Tertinggi pada setiap bulan di Tahun 2018 menunjukan pada bulan apa saja sebuah produk mencapai penjualan tertinggi pada tahun 2018"
   ]
  },
  {
   "cell_type": "markdown",
   "id": "6a561b80-04fb-4fcc-ba08-04699c4c9d9b",
   "metadata": {},
   "source": [
    "### Conclusion"
   ]
  },
  {
   "cell_type": "raw",
   "id": "38011cb9-4085-43ce-9bcd-a24e5809146a",
   "metadata": {},
   "source": [
    "1. Conclusion untuk pertanyaan : seller mana sajakah dengan total nilai penjualan tertinggi pada tahun 2018?\n",
    "- seller yang mencapai total nilai penjualan tertinggi pada tahun 2018 : seller_id 4869f7a5dfa277a7dca6462dcf3b52b2  138414.60, seller_id 955fee9216a65b617aa5c0531780ce60  117340.86, 7d13fca15225358621be4086e1eb0964  113628.97, 1025f0e2d44d7041d6cf58b6550e0bfa  105196.71, fa1c13f2614d7b5c4749cbc52fecda94   95013.42\n",
    "Saran : Cari tau strategi penjualan dari seller dengan performa tertinggi, seperti strategi pemasaran, jenis produk, dan layanan pelanggan.\n",
    "Berikan insentif tambahan kepada seller dengan penjualan tinggi untuk meningkatkan loyalitas mereka terhadap platform.\n",
    "2. Conclusion untuk pertanyaan : kategori produk yang paling diminati dan paling sedikit peminat pada tahun 2018 ?\n",
    "- kategori produk paling diminati : beleza_saude 5951, cama_mesa_banho 5884, informatica_acessorios 4708, esporte_lazer 4527,moveis_decoracao 4118\n",
    "- kategori produk paling tidak diminati : cds_dvds_musicais 1, fashion_roupa_infanto_juvenil 3, la_cuisine 4, fashion_esporte 5, pc_gamer 5\n",
    "Saran : Tingkatkan stok produk pada kategori populer seperti beleza_saude dan cama_mesa_banho untuk memenuhi permintaan konsumen.\n",
    "Lakukan riset pasar untuk mencari tau penyebab rendahnya minat pada kategori seperti cds_dvds_musicais, hasil riset bisa menjadi dasar untuk memutuskan bentuk promosi yang sesuai.\n",
    "3. Conclusion untuk pertanyaan : kategori produk yang paling diminati setiap bulanya pada tahun 2018 ?\n",
    "- tidak ada catatan penjualan dibulan ke-9 hingga ke-12\n",
    "- kategori produk kategori produk dan cama_mesa_banho penjualannya cenderung stabil diatas sepanjang dari bulan ke-1 hingga bulan ke-8\n",
    "- kategori produk informatica_acessorios sangat laris pada bulan ke-2 2018 kemudian menurun tajam hingga bulan ke-8\n",
    "- kategori produk esporte_lazer sangat laris pada bulan ke-3 2018 kemudian menurun tajam hingga bulan ke-8\n",
    "- kategori produk moveis_decoracao penjualan sempat naik cukup tajam pada awal tahun namun turun drastis pada bulan ke-2 kemudian mulai stabil di bulan ke-3 hingga ke-5 2018 dan kembali turun drastis hingga bulan ke-8\n",
    "Saran : Terapkan strategi harga yang dinamis atau diskon musiman untuk mendorong penjualan pada kategori produk yang bersifat musiman (penjualan cenderung fluktuatif)"
   ]
  },
  {
   "cell_type": "markdown",
   "id": "080b3ab3-4389-4513-902c-15b70831532a",
   "metadata": {},
   "source": [
    "### Download csv untuk digunakan di strimlit"
   ]
  },
  {
   "cell_type": "code",
   "execution_count": 70,
   "id": "25cc7d72-4a34-48e1-9e3c-32702a3f3924",
   "metadata": {},
   "outputs": [],
   "source": [
    "top_5_sellers.to_csv('top_5_sellers.csv', index=False)\n",
    "merged_op_df.to_csv('merged_op_.csv', index=False)\n",
    "merged_df.to_csv('merged_df.csv', index=False)"
   ]
  }
 ],
 "metadata": {
  "kernelspec": {
   "display_name": "Python 3 (ipykernel)",
   "language": "python",
   "name": "python3"
  },
  "language_info": {
   "codemirror_mode": {
    "name": "ipython",
    "version": 3
   },
   "file_extension": ".py",
   "mimetype": "text/x-python",
   "name": "python",
   "nbconvert_exporter": "python",
   "pygments_lexer": "ipython3",
   "version": "3.12.7"
  }
 },
 "nbformat": 4,
 "nbformat_minor": 5
}
